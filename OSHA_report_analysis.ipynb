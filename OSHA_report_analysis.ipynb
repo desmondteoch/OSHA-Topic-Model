{
 "cells": [
  {
   "cell_type": "markdown",
   "metadata": {},
   "source": [
    "### Analysis of U.S. Dept of Labour, Occupation Safety and Health Administration (OSHA) Reports\n",
    "##### Objective: Perform text mining on accident reports to determine:\n",
    "1. What are the major types of accidents reflected in the reports?\n",
    "    * Identify accident types\n",
    "2. Which type of accidents has the largest number of occurrences?\n",
    "    * Count of freq for accident types\n",
    "3. Which part of the human body is injured most? \n",
    "    * Identify bodily parts among text\n",
    "4. What are the more risky occupations involved in such accidents?\n",
    "    * To extract concept of occupation"
   ]
  },
  {
   "cell_type": "code",
   "execution_count": 1,
   "metadata": {},
   "outputs": [],
   "source": [
    "# import packages\n",
    "import os\n",
    "import pandas as pd\n",
    "import string\n",
    "\n",
    "import nltk\n",
    "#nltk.download('punkt')\n",
    "#nltk.download('stopwords')\n",
    "#nltk.download('wordnet')\n",
    "\n",
    "from nltk.tokenize import word_tokenize\n",
    "from nltk.corpus import stopwords\n",
    "from nltk.stem.wordnet import WordNetLemmatizer\n",
    "from nltk import FreqDist, SnowballStemmer\n",
    "\n",
    "import warnings\n",
    "warnings.filterwarnings(\"ignore\")"
   ]
  },
  {
   "cell_type": "markdown",
   "metadata": {},
   "source": [
    "### Step 1: Data Preparation"
   ]
  },
  {
   "cell_type": "code",
   "execution_count": 2,
   "metadata": {},
   "outputs": [
    {
     "data": {
      "text/plain": [
       "(10000, 3)"
      ]
     },
     "execution_count": 2,
     "metadata": {},
     "output_type": "execute_result"
    }
   ],
   "source": [
    "# load accident report dataset\n",
    "cwd = os.getcwd()\n",
    "os.chdir(cwd)\n",
    "df = pd.read_csv(\"osha.txt\", sep='\\t', header=None)\n",
    "df.shape"
   ]
  },
  {
   "cell_type": "code",
   "execution_count": 3,
   "metadata": {},
   "outputs": [
    {
     "name": "stdout",
     "output_type": "stream",
     "text": [
      "<class 'pandas.core.frame.DataFrame'>\n",
      "RangeIndex: 10000 entries, 0 to 9999\n",
      "Data columns (total 3 columns):\n",
      " #   Column  Non-Null Count  Dtype \n",
      "---  ------  --------------  ----- \n",
      " 0   id      10000 non-null  int64 \n",
      " 1   title   10000 non-null  object\n",
      " 2   text    10000 non-null  object\n",
      "dtypes: int64(1), object(2)\n",
      "memory usage: 234.5+ KB\n"
     ]
    }
   ],
   "source": [
    "# rename columns\n",
    "df = df.rename(columns={0: \"id\", 1: \"title\", 2: \"text\"})\n",
    "df.info()"
   ]
  },
  {
   "cell_type": "code",
   "execution_count": 4,
   "metadata": {},
   "outputs": [
    {
     "name": "stdout",
     "output_type": "stream",
     "text": [
      "Number of words in title and count of titles:\n",
      " 7     2481\n",
      "8     2388\n",
      "9     1579\n",
      "6     1516\n",
      "5      657\n",
      "10     503\n",
      "2      390\n",
      "4      239\n",
      "11      99\n",
      "1       85\n",
      "3       54\n",
      "12       8\n",
      "13       1\n",
      "Name: title_count, dtype: int64\n",
      "Number of words in shortest report:  3\n",
      "Number of words in longest report:  730\n"
     ]
    }
   ],
   "source": [
    "# word count\n",
    "df['title_count'] = df['title'].str.split().str.len()\n",
    "print(\"Number of words in title and count of titles:\\n\",\\\n",
    "      df['title_count'].value_counts().sort_values(ascending=False))\n",
    "\n",
    "df['text_count'] = df['text'].str.split().str.len()\n",
    "print(\"Number of words in shortest report: \",min(df['text_count']))\n",
    "print(\"Number of words in longest report: \",max(df['text_count']))"
   ]
  },
  {
   "cell_type": "code",
   "execution_count": 5,
   "metadata": {},
   "outputs": [
    {
     "name": "stdout",
     "output_type": "stream",
     "text": [
      "Number of tokens in longest report:  722\n"
     ]
    }
   ],
   "source": [
    "# check number of tokens for longest report\n",
    "text = df['text'].tolist()\n",
    "text_token = [word_tokenize(t) for t in text]\n",
    "print(\"Number of tokens in longest report: \", len(max(text_token)))"
   ]
  },
  {
   "cell_type": "code",
   "execution_count": 6,
   "metadata": {},
   "outputs": [
    {
     "name": "stdout",
     "output_type": "stream",
     "text": [
      "15      InspectionOpen DateSICEstablishment Name\n",
      "34      InspectionOpen DateSICEstablishment Name\n",
      "61      InspectionOpen DateSICEstablishment Name\n",
      "187     InspectionOpen DateSICEstablishment Name\n",
      "246     InspectionOpen DateSICEstablishment Name\n",
      "                          ...                   \n",
      "9892    InspectionOpen DateSICEstablishment Name\n",
      "9895    InspectionOpen DateSICEstablishment Name\n",
      "9919    InspectionOpen DateSICEstablishment Name\n",
      "9933    InspectionOpen DateSICEstablishment Name\n",
      "9969    InspectionOpen DateSICEstablishment Name\n",
      "Name: text, Length: 217, dtype: object\n"
     ]
    }
   ],
   "source": [
    "# looking at the three word reports\n",
    "three_word_text = df[df['text_count']==3]\n",
    "print(three_word_text['text'])"
   ]
  },
  {
   "cell_type": "code",
   "execution_count": 7,
   "metadata": {},
   "outputs": [],
   "source": [
    "# pre-processing\n",
    "stopword = stopwords.words('english')\n",
    "#snowball = SnowballStemmer('english')\n",
    "lemma = nltk.WordNetLemmatizer()\n",
    "\n",
    "def preproc(tt):\n",
    "    token = nltk.word_tokenize(tt.lower())\n",
    "    token = [lemma.lemmatize(t) for t in token]\n",
    "    token = [t for t in token if t not in stopword]\n",
    "    token = [t for t in token if t not in string.punctuation+\"'\"\"\"]\n",
    "    #token = [t for t in token if not t.isnumeric()]\n",
    "    #token = [snowball.stem(t) for t in token]\n",
    "    return token"
   ]
  },
  {
   "cell_type": "code",
   "execution_count": 8,
   "metadata": {},
   "outputs": [
    {
     "name": "stdout",
     "output_type": "stream",
     "text": [
      "[('employee', 7834), ('killed', 2066), ('fall', 1660), ('injured', 1496), ('struck', 1151), ('dy', 984), (\"'s\", 963), ('worker', 829), ('finger', 810), ('fracture', 645), ('burned', 574), ('crushed', 490), ('shock', 483), ('caught', 475), ('electric', 474), ('falling', 454), ('amputated', 421), ('machine', 405), ('suffers', 400), ('burn', 399)]\n"
     ]
    }
   ],
   "source": [
    "# preproc title col\n",
    "title = df['title'].tolist()\n",
    "title_clean = [preproc(t) for t in title]\n",
    "title_num = [len(t) for t in title_clean]\n",
    "title_fd = FreqDist(title_num)\n",
    "title_flat = [t for tt in title_clean for t in tt]\n",
    "title_flat_fd = FreqDist(title_flat)\n",
    "print(title_flat_fd.most_common(20))"
   ]
  },
  {
   "cell_type": "code",
   "execution_count": 9,
   "metadata": {},
   "outputs": [
    {
     "name": "stdout",
     "output_type": "stream",
     "text": [
      "[('wa', 40175), ('employee', 38347), ('1', 28821), ('approximately', 6070), (\"'s\", 4240), ('working', 3639), ('hospitalized', 3365), ('coworker', 3354), ('truck', 3135), ('2', 3112), ('hospital', 3065), ('left', 2891), ('hand', 2828), ('fell', 2747), ('right', 2657), ('machine', 2622), ('foot', 2568), ('two', 2533), ('line', 2368), ('injury', 2343)]\n"
     ]
    }
   ],
   "source": [
    "# preproc text col\n",
    "text = df['text'].tolist()\n",
    "text_clean = [preproc(t) for t in text]\n",
    "text_num = [len(t) for t in text_clean]\n",
    "text_fd = FreqDist(text_num)\n",
    "text_flat = [t for tt in text_clean for t in tt]\n",
    "text_flat_fd = FreqDist(text_flat)\n",
    "print(text_flat_fd.most_common(20))"
   ]
  },
  {
   "cell_type": "markdown",
   "metadata": {},
   "source": [
    "### Step 2: K-Means Clustering to identify themes\n",
    "* A clustering approach can be carried out to see if the text reports can be distinguished into different themes"
   ]
  },
  {
   "cell_type": "code",
   "execution_count": 10,
   "metadata": {},
   "outputs": [],
   "source": [
    "# import packages\n",
    "import numpy as np\n",
    "import matplotlib.pyplot as plt\n",
    "\n",
    "from sklearn.feature_extraction.text import TfidfVectorizer\n",
    "#from sklearn.preprocessing import Normalizer\n",
    "#from sklearn.decomposition import TruncatedSVD\n",
    "#from sklearn.pipeline import make_pipeline"
   ]
  },
  {
   "cell_type": "markdown",
   "metadata": {},
   "source": [
    "From the most common words in title and text, add additional stopwords to reduce noise. "
   ]
  },
  {
   "cell_type": "code",
   "execution_count": 11,
   "metadata": {},
   "outputs": [],
   "source": [
    "# preprocess in format for tfidf\n",
    "stopword = stopwords.words('english')+['employee','worker','wa','working','coworker','operator',\\\n",
    "                                       'approximately','a.m.','p.m.','employer','medical',\\\n",
    "                                      'hospital','hospitalized','center']\n",
    "#snowball = SnowballStemmer('english')\n",
    "lemma = nltk.WordNetLemmatizer()\n",
    "\n",
    "def preproc2(tt):\n",
    "    token = nltk.word_tokenize(tt.lower())\n",
    "    token = [lemma.lemmatize(t) for t in token]\n",
    "    token = [t for t in token if t not in stopword]\n",
    "    token = [t for t in token if t not in string.punctuation+\"'\"\"\"]\n",
    "    #token = [t for t in token if not t.isnumeric()]\n",
    "    #token = [snowball.stem(t) for t in token]\n",
    "    token = \" \".join(token)\n",
    "    return token"
   ]
  },
  {
   "cell_type": "code",
   "execution_count": 12,
   "metadata": {},
   "outputs": [
    {
     "data": {
      "text/plain": [
       "(10000, 2500)"
      ]
     },
     "execution_count": 12,
     "metadata": {},
     "output_type": "execute_result"
    }
   ],
   "source": [
    "# Create tfidf matrix on report text\n",
    "text2 = df['text']\n",
    "text_clean2 = text2.apply(preproc2)\n",
    "vectorizer = TfidfVectorizer(max_df=0.7, max_features=2500,\n",
    "                             min_df=3, stop_words=stopword,\n",
    "                             use_idf=True)\n",
    "text_features = vectorizer.fit_transform(text_clean2)\n",
    "text_features.shape"
   ]
  },
  {
   "cell_type": "code",
   "execution_count": 13,
   "metadata": {},
   "outputs": [
    {
     "name": "stdout",
     "output_type": "stream",
     "text": [
      "   clusters  silhouette_score\n",
      "0         2          0.034463\n",
      "1         3          0.027144\n",
      "2         4          0.027538\n",
      "3         5          0.029025\n",
      "4         6          0.029965\n",
      "5         7          0.030941\n",
      "6         8          0.031610\n",
      "7         9          0.032071\n"
     ]
    }
   ],
   "source": [
    "# apply K-means method\n",
    "from sklearn.cluster import KMeans\n",
    "from sklearn import metrics\n",
    "\n",
    "# find optimal K based on silhouette score\n",
    "lst = []\n",
    "for i in range(2,10):\n",
    "    km = KMeans(n_clusters=i, init='k-means++', max_iter=2000, random_state=5)\n",
    "    km.fit(text_features)\n",
    "    lst.append([i, metrics.silhouette_score(text_features, km.labels_)])\n",
    "    \n",
    "cols = ['clusters', 'silhouette_score']\n",
    "km_df = pd.DataFrame(lst, columns=cols)\n",
    "print(km_df)"
   ]
  },
  {
   "cell_type": "code",
   "execution_count": 14,
   "metadata": {},
   "outputs": [
    {
     "data": {
      "image/png": "[encoded data removed]",
      "text/plain": [
       "<Figure size 432x288 with 1 Axes>"
      ]
     },
     "metadata": {
      "needs_background": "light"
     },
     "output_type": "display_data"
    }
   ],
   "source": [
    "# find optimal K using elbow method\n",
    "sse = []\n",
    "k_list = list(range(2,10))\n",
    "\n",
    "for k in k_list:\n",
    "    km = KMeans(n_clusters=k, init='k-means++', max_iter=2000, random_state=5)\n",
    "    km.fit(text_features)\n",
    "    sse.append(km.inertia_)\n",
    "    \n",
    "plt.figure()\n",
    "plt.plot(k_list, sse)\n",
    "plt.xlabel('Number of clusters')\n",
    "plt.ylabel('Sum of squared distances')\n",
    "plt.show()"
   ]
  },
  {
   "cell_type": "markdown",
   "metadata": {},
   "source": [
    "* Silhouette scores seem to improve from 5 clusters and above (with exception of k = 2)\n",
    "* Optimal K from elbow method non-conclusive, no long tail present\n",
    "* Can try to perform clustering on title as well\n",
    "* Based on understanding of the reports, seems like there may be around 5 main topics, hence to try k = 5"
   ]
  },
  {
   "cell_type": "code",
   "execution_count": 15,
   "metadata": {},
   "outputs": [
    {
     "name": "stdout",
     "output_type": "stream",
     "text": [
      "Coefficient for 5 clusters: 0.029\n",
      "[0 1 2 3 4]\n",
      "[ 979 1453  217  903 6448]\n"
     ]
    }
   ],
   "source": [
    "# run KM with k = 5\n",
    "km5 = KMeans(n_clusters=5, init='k-means++', max_iter=2000, random_state=5)\n",
    "km5.fit(text_features)\n",
    "    \n",
    "print(\"Coefficient for 5 clusters: %0.3f\" % metrics.silhouette_score(text_features, km5.labels_))\n",
    "\n",
    "labels, counts = np.unique(km5.labels_[km5.labels_>=0], return_counts=True)\n",
    "print(labels)\n",
    "print(counts)"
   ]
  },
  {
   "cell_type": "code",
   "execution_count": 16,
   "metadata": {
    "scrolled": true
   },
   "outputs": [
    {
     "name": "stdout",
     "output_type": "stream",
     "text": [
      "Cluster 0: truck crane trailer driver boom load side dump struck vehicle bed killed cab rear fell\n",
      "Cluster 1: machine finger hand press right left amputated caught conveyor blade index number belt amputation saw\n",
      "Cluster 2: datesicestablishment inspectionopen name zone excess except excavator excavation examiner examined examination evidence exchanger eventually event\n",
      "Cluster 3: line power electrical electrocuted energized pole electric volt contacted shock conductor overhead phase burn meter\n",
      "Cluster 4: fell ft foot floor injury ladder died tank killed struck two fire transported area 2013\n"
     ]
    }
   ],
   "source": [
    "# print top terms for each cluster\n",
    "def print_terms(cm, num, term):\n",
    "    original_space_centroids = cm.cluster_centers_\n",
    "    order_centroids = original_space_centroids.argsort()[:, ::-1]\n",
    "    terms = vectorizer.get_feature_names()\n",
    "    for i in range(num):\n",
    "        print(\"Cluster %d:\" % i, end='')\n",
    "        for ind in order_centroids[i, :term]:\n",
    "            print(' %s' % terms[ind], end='')\n",
    "        print()\n",
    "\n",
    "print_terms(km5, 5, 15)"
   ]
  },
  {
   "cell_type": "markdown",
   "metadata": {},
   "source": [
    "Based on the above, Cluster 2 does not seem to be very informative. 4 clusters may be more relevant."
   ]
  },
  {
   "cell_type": "markdown",
   "metadata": {},
   "source": [
    "### Step 3: LDA model to identify topics\n",
    "* A topic modelling approach like LDA can also be used to draw out main topics from the sea of unstructured text"
   ]
  },
  {
   "cell_type": "code",
   "execution_count": 17,
   "metadata": {},
   "outputs": [],
   "source": [
    "# preprocess data for DTM\n",
    "stopword = stopwords.words('english')+['employee','worker','wa','working','coworker','operator',\\\n",
    "                                       'approximately','a.m.','p.m.','employer','medical',\\\n",
    "                                      'hospital','hospitalized','center']\n",
    "#snowball = SnowballStemmer('english')\n",
    "lemma = nltk.WordNetLemmatizer()\n",
    "\n",
    "def preproc3(tt):\n",
    "    token = nltk.word_tokenize(tt.lower())\n",
    "    token = [lemma.lemmatize(t) for t in token]\n",
    "    token = [t for t in token if t not in stopword]\n",
    "    token = [t for t in token if t not in string.punctuation+\"'\"\"\"]\n",
    "    return token\n",
    "\n",
    "text3 = df['text']\n",
    "text_clean3 = text3.apply(preproc3)"
   ]
  },
  {
   "cell_type": "code",
   "execution_count": 18,
   "metadata": {},
   "outputs": [],
   "source": [
    "# construct DTM\n",
    "import gensim \n",
    "from gensim import corpora\n",
    "\n",
    "dictionary = corpora.Dictionary(text_clean3)\n",
    "#print(dictionary)\n",
    "dictionary.filter_extremes(no_below=2, no_above=0.8)\n",
    "dtm = [dictionary.doc2bow(d) for d in text_clean3]"
   ]
  },
  {
   "cell_type": "markdown",
   "metadata": {},
   "source": [
    "Initially, number of topics was set as 5 based on observation from K-means clustering. However, we noticed that 2 topics overlapped quite significantly and hence number of topics was eventually set as 4."
   ]
  },
  {
   "cell_type": "code",
   "execution_count": 19,
   "metadata": {},
   "outputs": [
    {
     "data": {
      "text/plain": [
       "[(0,\n",
       "  '0.010*\"day\" + 0.009*\"ladder\" + 0.009*\"floor\" + 0.009*\"transported\" + 0.008*\"\\'s\" + 0.008*\"fell\" + 0.008*\"work\" + 0.007*\"building\" + 0.007*\"foot\" + 0.006*\"roof\"'),\n",
       " (1,\n",
       "  '0.013*\"burn\" + 0.011*\"tank\" + 0.011*\"water\" + 0.010*\"line\" + 0.009*\"2\" + 0.009*\"hot\" + 0.007*\"fire\" + 0.007*\"power\" + 0.006*\"gas\" + 0.005*\"degree\"'),\n",
       " (2,\n",
       "  '0.026*\"machine\" + 0.022*\"hand\" + 0.017*\"right\" + 0.017*\"finger\" + 0.016*\"left\" + 0.012*\"\\'s\" + 0.011*\"press\" + 0.009*\"number\" + 0.008*\"caught\" + 0.006*\"metal\"'),\n",
       " (3,\n",
       "  '0.017*\"truck\" + 0.011*\"car\" + 0.010*\"struck\" + 0.008*\"line\" + 0.008*\"ground\" + 0.007*\"side\" + 0.007*\"train\" + 0.007*\"foot\" + 0.007*\"fell\" + 0.007*\"locomotive\"')]"
      ]
     },
     "execution_count": 19,
     "metadata": {},
     "output_type": "execute_result"
    }
   ],
   "source": [
    "# apply LDA model\n",
    "lda = gensim.models.ldamodel.LdaModel(dtm, num_topics = 4, id2word = dictionary, passes=10, chunksize=128, random_state=10)\n",
    "lda.show_topics(10)"
   ]
  },
  {
   "cell_type": "code",
   "execution_count": 20,
   "metadata": {},
   "outputs": [
    {
     "name": "stdout",
     "output_type": "stream",
     "text": [
      "C_umass score:  -2.1902406296524224\n",
      "C_v score:  0.445116311488268\n"
     ]
    }
   ],
   "source": [
    "# evaluate coherence score of LDA model\n",
    "## c_umass: conditional logistic probability of doc occurrence\n",
    "## c_v: NPMI + cosine similarity\n",
    "from gensim.models.coherencemodel import CoherenceModel\n",
    "\n",
    "cm_umass = CoherenceModel(lda,  dictionary=dictionary, corpus=dtm, coherence='u_mass')\n",
    "cm_cv = CoherenceModel(lda,  dictionary=dictionary, texts=text_clean3, coherence='c_v')\n",
    "lda_umass = cm_umass.get_coherence()\n",
    "lda_cv = cm_cv.get_coherence()\n",
    "print(\"C_umass score: \",lda_umass) # C_umass: closer to zero the better\n",
    "print(\"C_v score: \",lda_cv) # C_v: closer to 1 the better"
   ]
  },
  {
   "cell_type": "code",
   "execution_count": 21,
   "metadata": {
    "scrolled": false
   },
   "outputs": [
    {
     "data": {
      "text/html": [
       "\n",
       "<link rel=\"stylesheet\" type=\"text/css\" href=\"https://cdn.jsdelivr.net/gh/bmabey/pyLDAvis@3.3.1/pyLDAvis/js/ldavis.v1.0.0.css\">\n",
       "\n",
       "\n",
       "<div id=\"ldavis_el106825559968572809218407846\"></div>\n",
       "<script type=\"text/javascript\">\n",
       "\n",
       "var ldavis_el106825559968572809218407846_data = {\"mdsDat\": {\"x\": [-0.09363662185221852, -0.12597154311843892, 0.27233087590954436, -0.05272271093888698], \"y\": [0.19941102960655038, -0.029636904040793464, 0.018421013433839176, -0.18819513899959622], \"topics\": [1, 2, 3, 4], \"cluster\": [1, 1, 1, 1], \"Freq\": [30.355445211306996, 28.601578185998637, 21.31666638887979, 19.726310213814575]}, \"tinfo\": {\"Term\": [\"machine\", \"hand\", \"truck\", \"finger\", \"burn\", \"right\", \"car\", \"tank\", \"left\", \"press\", \"ladder\", \"line\", \"water\", \"hot\", \"floor\", \"train\", \"locomotive\", \"lift\", \"fell\", \"caught\", \"building\", \"ground\", \"forklift\", \"driver\", \"fire\", \"struck\", \"roof\", \"tree\", \"load\", \"number\", \"ladder\", \"roof\", \"scaffold\", \"house\", \"home\", \"ambulance\", \"office\", \"report\", \"bin\", \"trench\", \"county\", \"city\", \"responded\", \"boat\", \"name\", \"ceiling\", \"datesicestablishment\", \"inspectionopen\", \"paramedic\", \"joist\", \"rescue\", \"pain\", \"disease\", \"cal/osha\", \"summoned\", \"related\", \"diagnosed\", \"felt\", \"illness\", \"grain\", \"carrying\", \"emergency\", \"admitted\", \"san\", \"building\", \"floor\", \"called\", \"reported\", \"arrived\", \"department\", \"later\", \"service\", \"day\", \"general\", \"transported\", \"wall\", \"hour\", \"work\", \"found\", \"taken\", \"incident\", \"contractor\", \"fell\", \"treated\", \"site\", \"construction\", \"2012\", \"died\", \"foot\", \"'s\", \"2011\", \"2013\", \"area\", \"injury\", \"ft\", \"accident\", \"two\", \"2\", \"sustained\", \"truck\", \"car\", \"lift\", \"driver\", \"forklift\", \"tree\", \"trailer\", \"load\", \"crane\", \"train\", \"locomotive\", \"vehicle\", \"rail\", \"cable\", \"pole\", \"loader\", \"pallet\", \"railroad\", \"cab\", \"track\", \"loading\", \"bridge\", \"tractor\", \"rear\", \"boom\", \"overhead\", \"dock\", \"tire\", \"hoist\", \"jack\", \"crossing\", \"struck\", \"killed\", \"bucket\", \"ground\", \"side\", \"line\", \"front\", \"ft\", \"moving\", \"crew\", \"fell\", \"foot\", \"head\", \"back\", \"two\", \"injury\", \"'s\", \"one\", \"top\", \"2\", \"burn\", \"tank\", \"hot\", \"gas\", \"conductor\", \"hose\", \"electrical\", \"valve\", \"fuel\", \"energized\", \"pump\", \"vapor\", \"chemical\", \"electrocuted\", \"flash\", \"explosion\", \"acid\", \"second-degree\", \"liquid\", \"ignited\", \"oil\", \"leak\", \"percent\", \"phase\", \"burned\", \"contained\", \"hydrogen\", \"gallon\", \"test\", \"circuit\", \"ladle\", \"steam\", \"degree\", \"water\", \"pressure\", \"air\", \"face\", \"power\", \"electric\", \"fire\", \"light\", \"line\", \"2\", \"system\", \"drum\", \"lead\", \"3\", \"one\", \"two\", \"area\", \"used\", \"using\", \"machine\", \"finger\", \"press\", \"amputated\", \"index\", \"middle\", \"conveyor\", \"blade\", \"amputation\", \"guard\", \"table\", \"roller\", \"ring\", \"button\", \"die\", \"activated\", \"thumb\", \"ram\", \"curtain\", \"rotating\", \"amputating\", \"drill\", \"lathe\", \"partial\", \"cutter\", \"mold\", \"pedal\", \"guarded\", \"fingertip\", \"cycle\", \"laser\", \"kiln\", \"draw\", \"hand\", \"shaft\", \"violation\", \"caught\", \"cutting\", \"right\", \"piece\", \"left\", \"serial\", \"number\", \"reached\", \"model\", \"point\", \"'s\", \"operating\", \"cut\", \"operation\", \"metal\", \"saw\", \"arm\", \"control\", \"part\", \"using\", \"door\", \"accident\"], \"Freq\": [2900.0, 2830.0, 2708.0, 1916.0, 1635.0, 2768.0, 1772.0, 1334.0, 2933.0, 1193.0, 1552.0, 2548.0, 1523.0, 1037.0, 1740.0, 1164.0, 1141.0, 1114.0, 2522.0, 1016.0, 1412.0, 1784.0, 989.0, 982.0, 1506.0, 1808.0, 985.0, 925.0, 919.0, 1577.0, 1551.424579669859, 985.0609792681689, 483.05858208945335, 401.4276625572131, 357.43896549564545, 331.04446200080287, 314.38498130853395, 300.0935379377473, 299.8033073641942, 278.5279377443641, 262.4159608022185, 237.1698896345167, 227.03877371490265, 240.0929246863654, 206.86417309625875, 220.98553131867936, 201.70847584989912, 201.70847584989912, 220.4689100193964, 221.94111452521037, 192.0419867053548, 179.90417626968792, 177.27789880644272, 172.00894576189364, 172.0449249251036, 171.50022134501734, 154.44264309744403, 161.47479673547107, 154.00197892855476, 155.04000599031352, 297.8175033253243, 978.6626511688177, 464.68785503770334, 345.50145787061496, 1295.9916990221404, 1550.8534255627321, 563.3245496718313, 446.73086821775973, 384.7217272454805, 680.4573545110233, 933.6314044687047, 916.4567327798336, 1685.4143678419193, 330.17221910681366, 1525.5493969187958, 620.1887911757356, 556.184760720797, 1363.1005338400382, 671.2562375105513, 751.2427521522525, 628.6121055493674, 445.1951663309615, 1372.666720490953, 775.9462148311188, 542.863485614864, 518.1899182765372, 761.8486681265673, 832.923994164727, 1163.6126331197418, 1421.3187683549545, 687.9705128970705, 669.3313724239266, 828.4384843773086, 847.8280704203837, 697.5997940268059, 678.0705620938251, 737.4674465981526, 730.6862002825108, 620.4000327801137, 2707.3104924617833, 1771.152473054409, 1113.583145712901, 981.2984321257993, 988.4832607770254, 925.0826581638039, 896.0619666847098, 918.9032241612609, 854.0854114202401, 1162.6171280109793, 1139.7360860006786, 641.8712917900481, 566.0049192184599, 537.7700482055998, 512.4935065305505, 516.0759367603848, 600.9622755270744, 536.2724718011328, 500.5210571982083, 478.9652046002409, 471.0739347385728, 452.5106155479851, 443.34472211268064, 441.7117340365685, 408.23525070222075, 432.42952398732484, 413.30876577614873, 391.0360323238643, 369.1390121640589, 363.955672036565, 479.162039340213, 1558.4929033106523, 1090.8166740488368, 799.8931061776267, 1346.8756276113845, 1167.4007626462521, 1369.4697502456563, 664.2413606855898, 988.628732469132, 706.8165061486865, 724.8975897169278, 1149.2584078590494, 1149.739618498179, 832.5366198177665, 804.1877858561317, 878.4124390130941, 821.4027965684955, 945.2723979454479, 750.9999641660087, 671.3753197993882, 676.2348791173889, 1634.6861482446616, 1333.5338597574191, 1036.6696907513865, 724.9086354098597, 622.5932444745017, 615.2462324781729, 600.0023581688233, 554.2118853561025, 515.7279652439983, 505.6601646372773, 475.5711805736598, 452.14561616811886, 402.0237918435255, 369.79581252457064, 350.93889481491453, 342.7923731834576, 323.30658221100896, 319.1565336130688, 308.2955610511075, 296.10404352449297, 319.8543574378547, 300.9706177615307, 293.10473651760424, 280.570192067064, 272.5032309527696, 282.09386650901155, 275.0383594943065, 252.52550587224636, 261.10748835706363, 242.07829326867252, 328.92343589118946, 298.08139964947827, 645.171398833977, 1285.737907365211, 430.5545554511643, 556.4759649095819, 606.3462059772017, 866.325021449966, 470.7515164850771, 901.76357320314, 558.0300545563481, 1178.6124437407434, 1110.5102254695441, 557.2125504372528, 378.41330299268776, 387.97151452593243, 477.4907053696692, 545.8252675124685, 577.4381806569577, 521.1549431664696, 448.87310988892506, 437.01963968061017, 2899.212090806796, 1915.751612076412, 1192.312795252443, 667.112645451858, 560.1565377521425, 526.614102169327, 509.345471832527, 501.95738481106764, 486.3566234060802, 356.93659748954883, 352.3973349141623, 318.23068559860144, 291.46678542816653, 269.7111001491789, 241.42909416724115, 224.63915598579467, 215.59549265227548, 212.4379650471098, 231.5449376857112, 206.16838860250883, 196.49509178696036, 189.4656900568791, 174.806551179657, 175.36947199900285, 174.16961281815807, 153.89685734505508, 144.5623472244799, 150.7189991344837, 135.3457755611486, 140.594567101366, 281.33324193248455, 226.85381740091972, 159.75758308944694, 2451.0347472283925, 296.50615733240545, 223.6626061848662, 888.9609971095181, 476.5243080046575, 1964.2545455425272, 544.3374677987036, 1810.9570155935298, 414.84750878875496, 970.9567243968918, 395.0991991515546, 495.8352674387716, 380.8427450278925, 1323.480886680771, 636.7912166149758, 476.3940769276609, 423.97012503998286, 689.5882671852436, 480.9337846032302, 552.3119874021029, 488.6685261199518, 458.8572344572154, 472.8511842025165, 447.0034834847035, 438.87598033026063], \"Total\": [2900.0, 2830.0, 2708.0, 1916.0, 1635.0, 2768.0, 1772.0, 1334.0, 2933.0, 1193.0, 1552.0, 2548.0, 1523.0, 1037.0, 1740.0, 1164.0, 1141.0, 1114.0, 2522.0, 1016.0, 1412.0, 1784.0, 989.0, 982.0, 1506.0, 1808.0, 985.0, 925.0, 919.0, 1577.0, 1552.2051203496326, 985.8244151189045, 483.82511139956046, 402.2449163897855, 358.20292000952315, 331.80907076251634, 315.1559209933676, 300.8724445293523, 300.6209435172868, 279.31867537376564, 263.17710199786126, 237.97428988806917, 227.81941410070542, 240.9392801062917, 207.6031857755047, 221.77729704296192, 202.44651554687553, 202.44651554687553, 221.3004712322854, 222.80800289299827, 192.8195022508404, 180.68179812020227, 178.0530656216963, 172.7705585212291, 172.81879044844428, 172.31859506961553, 155.19969390417305, 162.2761386221139, 154.7667127449879, 155.8162549149524, 299.7378926297612, 1013.8179484176602, 478.81989950658124, 354.1654776599505, 1412.9081558676403, 1740.40126683085, 602.2715159104848, 473.2198404923642, 409.1649960424574, 763.7945365538246, 1082.798279632388, 1064.1757197456282, 2128.511220461634, 348.2448026383717, 1958.0357310022914, 725.9034840014098, 649.7030415197464, 1882.2056896201889, 826.343289091378, 1038.9737600653514, 831.9576351341348, 524.0567815649854, 2522.4606807795853, 1172.9312616995107, 708.8478745223391, 667.6908522047322, 1202.2461839606206, 1442.3869577678947, 2622.110268750274, 4052.1702722974087, 1160.7095453244713, 1110.7887903843796, 2121.6061221612104, 2386.6713498936733, 1686.7749259985958, 1602.2164842679344, 2529.4131095246557, 2606.0120929927075, 1752.1372862372798, 2708.13868216448, 1772.009295515581, 1114.4366169124094, 982.1234123192618, 989.3164978683172, 925.9071925799528, 896.8971639528847, 919.7608010819974, 854.901716055882, 1164.0846466581718, 1141.2272755001577, 642.7133924204123, 566.8712065767298, 538.6151899477845, 513.3188077269458, 516.912585478341, 601.9394419988522, 537.1489190384592, 501.3478584701369, 479.80221662625354, 471.9450427111266, 453.3505050031613, 444.1833990657136, 442.56192842999405, 409.05311156621156, 433.30093922445843, 414.17884618566404, 391.8774475963523, 369.97430288033155, 364.8032529427316, 480.2811399319106, 1808.6510149868498, 1312.7062838485986, 913.3944757770798, 1784.3246828242993, 1697.4888274391678, 2548.646888834259, 858.4126278359482, 1686.7749259985958, 959.433738903122, 1024.7716511927047, 2522.4606807795853, 2622.110268750274, 1549.4256720603323, 1669.0655402892319, 2529.4131095246557, 2386.6713498936733, 4052.1702722974087, 1868.5714885448463, 1332.9021379946614, 2606.0120929927075, 1635.465473996827, 1334.3178148528327, 1037.482199241677, 725.701272335711, 623.4221646778348, 616.0725823961196, 600.8155110934011, 554.9946906376673, 516.518207807691, 506.452901859996, 476.3712626704292, 452.92118132829063, 402.79928992216594, 370.583746686247, 351.71203751154957, 343.56427753350675, 324.0862288557919, 319.9370996420135, 309.0892070508514, 296.87526022839904, 320.6957080531676, 301.7717722495155, 293.90030655909254, 281.3678464806178, 273.2793656787442, 282.90640133084605, 275.84192648498345, 253.29994708396885, 261.9132132897479, 242.86075567401372, 329.996644869178, 299.0550774170241, 686.4664602472418, 1523.1238237368605, 481.16098175519465, 679.0780785188975, 783.1011464425947, 1311.2498772883366, 566.6206434681874, 1506.301253617598, 768.3789216508458, 2548.646888834259, 2606.0120929927075, 967.8840677534677, 484.22559341975165, 535.1963816631123, 1080.291665514795, 1868.5714885448463, 2529.4131095246557, 2121.6061221612104, 1168.3817805476642, 1652.2891999500403, 2900.004271048829, 1916.5328355593097, 1193.0916625176073, 667.9026032238438, 560.9413558809952, 527.4300165364784, 510.13559795482234, 502.7476200250159, 487.14114835248046, 357.74136699640485, 353.1927410380534, 319.0137851789864, 292.25278420307217, 270.49988147892225, 242.21451561125716, 225.42873597131194, 216.39155628312147, 213.22952823512392, 232.41376766490623, 206.95640182713598, 197.31071226029698, 190.28380438056973, 175.59951622358653, 176.16847599220844, 174.96536187779293, 154.6875865181575, 145.35374143926876, 151.54999965845107, 136.12638230277187, 141.41193762994922, 283.3669286261181, 228.43149986922597, 160.7002791329593, 2830.698286366278, 308.8536908461616, 230.41339119354348, 1016.6709357933349, 528.3958769996045, 2768.6388926471022, 672.865241457732, 2933.991194985661, 503.71560044393743, 1577.6213645431912, 493.29277716995267, 704.2722243917073, 527.178201958681, 4052.1702722974087, 1243.3149869529052, 777.4462371230834, 644.3611531496756, 1673.0920580612915, 830.7927634948846, 1279.2300735087815, 1017.9765850661757, 911.7992737369264, 1652.2891999500403, 1398.5598714333494, 1602.2164842679344], \"Category\": [\"Default\", \"Default\", \"Default\", \"Default\", \"Default\", \"Default\", \"Default\", \"Default\", \"Default\", \"Default\", \"Default\", \"Default\", \"Default\", \"Default\", \"Default\", \"Default\", \"Default\", \"Default\", \"Default\", \"Default\", \"Default\", \"Default\", \"Default\", \"Default\", \"Default\", \"Default\", \"Default\", \"Default\", \"Default\", \"Default\", \"Topic1\", \"Topic1\", \"Topic1\", \"Topic1\", \"Topic1\", \"Topic1\", \"Topic1\", \"Topic1\", \"Topic1\", \"Topic1\", \"Topic1\", \"Topic1\", \"Topic1\", \"Topic1\", \"Topic1\", \"Topic1\", \"Topic1\", \"Topic1\", \"Topic1\", \"Topic1\", \"Topic1\", \"Topic1\", \"Topic1\", \"Topic1\", \"Topic1\", \"Topic1\", \"Topic1\", \"Topic1\", \"Topic1\", \"Topic1\", \"Topic1\", \"Topic1\", \"Topic1\", \"Topic1\", \"Topic1\", \"Topic1\", \"Topic1\", \"Topic1\", \"Topic1\", \"Topic1\", \"Topic1\", \"Topic1\", \"Topic1\", \"Topic1\", \"Topic1\", \"Topic1\", \"Topic1\", \"Topic1\", \"Topic1\", \"Topic1\", \"Topic1\", \"Topic1\", \"Topic1\", \"Topic1\", \"Topic1\", \"Topic1\", \"Topic1\", \"Topic1\", \"Topic1\", \"Topic1\", \"Topic1\", \"Topic1\", \"Topic1\", \"Topic1\", \"Topic1\", \"Topic1\", \"Topic1\", \"Topic1\", \"Topic1\", \"Topic2\", \"Topic2\", \"Topic2\", \"Topic2\", \"Topic2\", \"Topic2\", \"Topic2\", \"Topic2\", \"Topic2\", \"Topic2\", \"Topic2\", \"Topic2\", \"Topic2\", \"Topic2\", \"Topic2\", \"Topic2\", \"Topic2\", \"Topic2\", \"Topic2\", \"Topic2\", \"Topic2\", \"Topic2\", \"Topic2\", \"Topic2\", \"Topic2\", \"Topic2\", \"Topic2\", \"Topic2\", \"Topic2\", \"Topic2\", \"Topic2\", \"Topic2\", \"Topic2\", \"Topic2\", \"Topic2\", \"Topic2\", \"Topic2\", \"Topic2\", \"Topic2\", \"Topic2\", \"Topic2\", \"Topic2\", \"Topic2\", \"Topic2\", \"Topic2\", \"Topic2\", \"Topic2\", \"Topic2\", \"Topic2\", \"Topic2\", \"Topic2\", \"Topic3\", \"Topic3\", \"Topic3\", \"Topic3\", \"Topic3\", \"Topic3\", \"Topic3\", \"Topic3\", \"Topic3\", \"Topic3\", \"Topic3\", \"Topic3\", \"Topic3\", \"Topic3\", \"Topic3\", \"Topic3\", \"Topic3\", \"Topic3\", \"Topic3\", \"Topic3\", \"Topic3\", \"Topic3\", \"Topic3\", \"Topic3\", \"Topic3\", \"Topic3\", \"Topic3\", \"Topic3\", \"Topic3\", \"Topic3\", \"Topic3\", \"Topic3\", \"Topic3\", \"Topic3\", \"Topic3\", \"Topic3\", \"Topic3\", \"Topic3\", \"Topic3\", \"Topic3\", \"Topic3\", \"Topic3\", \"Topic3\", \"Topic3\", \"Topic3\", \"Topic3\", \"Topic3\", \"Topic3\", \"Topic3\", \"Topic3\", \"Topic3\", \"Topic3\", \"Topic4\", \"Topic4\", \"Topic4\", \"Topic4\", \"Topic4\", \"Topic4\", \"Topic4\", \"Topic4\", \"Topic4\", \"Topic4\", \"Topic4\", \"Topic4\", \"Topic4\", \"Topic4\", \"Topic4\", \"Topic4\", \"Topic4\", \"Topic4\", \"Topic4\", \"Topic4\", \"Topic4\", \"Topic4\", \"Topic4\", \"Topic4\", \"Topic4\", \"Topic4\", \"Topic4\", \"Topic4\", \"Topic4\", \"Topic4\", \"Topic4\", \"Topic4\", \"Topic4\", \"Topic4\", \"Topic4\", \"Topic4\", \"Topic4\", \"Topic4\", \"Topic4\", \"Topic4\", \"Topic4\", \"Topic4\", \"Topic4\", \"Topic4\", \"Topic4\", \"Topic4\", \"Topic4\", \"Topic4\", \"Topic4\", \"Topic4\", \"Topic4\", \"Topic4\", \"Topic4\", \"Topic4\", \"Topic4\", \"Topic4\", \"Topic4\", \"Topic4\"], \"logprob\": [30.0, 29.0, 28.0, 27.0, 26.0, 25.0, 24.0, 23.0, 22.0, 21.0, 20.0, 19.0, 18.0, 17.0, 16.0, 15.0, 14.0, 13.0, 12.0, 11.0, 10.0, 9.0, 8.0, 7.0, 6.0, 5.0, 4.0, 3.0, 2.0, 1.0, -4.7144, -5.1686, -5.8812, -6.0663, -6.1823, -6.2591, -6.3107, -6.3572, -6.3582, -6.4318, -6.4914, -6.5925, -6.6362, -6.5803, -6.7292, -6.6632, -6.7545, -6.7545, -6.6656, -6.6589, -6.8036, -6.8689, -6.8836, -6.9138, -6.9136, -6.9167, -7.0215, -6.977, -7.0243, -7.0176, -6.3648, -5.1751, -5.9199, -6.2163, -4.8943, -4.7147, -5.7275, -5.9594, -6.1088, -5.5385, -5.2222, -5.2408, -4.6315, -6.2617, -4.7312, -5.6313, -5.7402, -4.8438, -5.5522, -5.4396, -5.6178, -5.9628, -4.8368, -5.4072, -5.7645, -5.811, -5.4256, -5.3364, -5.002, -4.802, -5.5276, -5.555, -5.3418, -5.3186, -5.5137, -5.5421, -5.4581, -5.4673, -5.6309, -4.0981, -4.5224, -4.9865, -5.1129, -5.1056, -5.1719, -5.2038, -5.1786, -5.2518, -4.9434, -4.9632, -5.5374, -5.6632, -5.7144, -5.7625, -5.7555, -5.6033, -5.7172, -5.7861, -5.8302, -5.8468, -5.887, -5.9074, -5.9111, -5.99, -5.9324, -5.9776, -6.033, -6.0906, -6.1048, -5.8298, -4.6503, -5.0071, -5.3173, -4.7963, -4.9393, -4.7796, -5.5031, -5.1055, -5.441, -5.4158, -4.9549, -4.9545, -5.2773, -5.312, -5.2237, -5.2908, -5.1503, -5.3804, -5.4925, -5.4853, -4.3086, -4.5122, -4.7641, -5.1218, -5.2739, -5.2858, -5.3109, -5.3903, -5.4622, -5.482, -5.5433, -5.5938, -5.7113, -5.7949, -5.8472, -5.8707, -5.9292, -5.9421, -5.9768, -6.0171, -5.94, -6.0008, -6.0273, -6.071, -6.1002, -6.0656, -6.0909, -6.1763, -6.1429, -6.2186, -5.912, -6.0105, -5.2383, -4.5487, -5.6427, -5.3862, -5.3004, -4.9436, -5.5535, -4.9035, -5.3834, -4.6357, -4.6952, -5.3849, -5.7718, -5.7469, -5.5393, -5.4055, -5.3492, -5.4518, -5.6011, -5.6278, -3.6581, -4.0724, -4.5466, -5.1273, -5.3021, -5.3638, -5.3972, -5.4118, -5.4433, -5.7527, -5.7655, -5.8675, -5.9554, -6.0329, -6.1437, -6.2158, -6.2569, -6.2716, -6.1855, -6.3016, -6.3496, -6.3861, -6.4666, -6.4634, -6.4703, -6.594, -6.6566, -6.6149, -6.7225, -6.6844, -5.9907, -6.206, -6.5566, -3.826, -5.9382, -6.2201, -4.8402, -5.4638, -4.0474, -5.3307, -4.1287, -5.6024, -4.752, -5.6511, -5.424, -5.6879, -4.4423, -5.1738, -5.464, -5.5806, -5.0942, -5.4546, -5.3162, -5.4386, -5.5015, -5.4715, -5.5277, -5.5461], \"loglift\": [30.0, 29.0, 28.0, 27.0, 26.0, 25.0, 24.0, 23.0, 22.0, 21.0, 20.0, 19.0, 18.0, 17.0, 16.0, 15.0, 14.0, 13.0, 12.0, 11.0, 10.0, 9.0, 8.0, 7.0, 6.0, 5.0, 4.0, 3.0, 2.0, 1.0, 1.1917, 1.1914, 1.1906, 1.1902, 1.1901, 1.1899, 1.1897, 1.1896, 1.1895, 1.1894, 1.1893, 1.1888, 1.1888, 1.1887, 1.1886, 1.1886, 1.1885, 1.1885, 1.1884, 1.1883, 1.1882, 1.1879, 1.1878, 1.1878, 1.1877, 1.1874, 1.1873, 1.1872, 1.1872, 1.1872, 1.1858, 1.1569, 1.1622, 1.1674, 1.1058, 1.0769, 1.1253, 1.1346, 1.1306, 1.0767, 1.044, 1.0428, 0.9588, 1.1389, 0.9426, 1.0348, 1.0368, 0.8695, 0.9843, 0.8679, 0.9119, 1.0291, 0.5837, 0.779, 0.9254, 0.9387, 0.736, 0.6431, 0.3797, 0.1445, 0.6692, 0.6856, 0.2518, 0.1572, 0.3093, 0.3323, -0.0403, -0.0794, 0.154, 1.2514, 1.2512, 1.2509, 1.2509, 1.2509, 1.2508, 1.2508, 1.2508, 1.2508, 1.2504, 1.2504, 1.2504, 1.2502, 1.2501, 1.2501, 1.2501, 1.2501, 1.2501, 1.2501, 1.25, 1.2499, 1.2499, 1.2498, 1.2498, 1.2497, 1.2497, 1.2496, 1.2496, 1.2494, 1.2494, 1.2494, 1.1028, 1.0665, 1.119, 0.9705, 0.8773, 0.6306, 0.9953, 0.7175, 0.9461, 0.9055, 0.4656, 0.4273, 0.6305, 0.5215, 0.1941, 0.1851, -0.2038, 0.3402, 0.5659, -0.0973, 1.5452, 1.5451, 1.5449, 1.5446, 1.5444, 1.5443, 1.5443, 1.5443, 1.5441, 1.5441, 1.544, 1.544, 1.5438, 1.5436, 1.5435, 1.5434, 1.5433, 1.5432, 1.5431, 1.5431, 1.5431, 1.543, 1.543, 1.5428, 1.5428, 1.5428, 1.5428, 1.5426, 1.5426, 1.5425, 1.5424, 1.5424, 1.4836, 1.3763, 1.4346, 1.3466, 1.2899, 1.1312, 1.3603, 1.0326, 1.2258, 0.7745, 0.6927, 0.9935, 1.2991, 1.224, 0.7292, 0.3151, 0.0685, 0.1418, 0.589, 0.2157, 1.6229, 1.6228, 1.6226, 1.622, 1.6218, 1.6217, 1.6217, 1.6216, 1.6216, 1.621, 1.621, 1.6208, 1.6205, 1.6203, 1.62, 1.6197, 1.6195, 1.6195, 1.6195, 1.6194, 1.6191, 1.6189, 1.6187, 1.6187, 1.6187, 1.6181, 1.6178, 1.6177, 1.6175, 1.6174, 1.616, 1.6163, 1.6173, 1.4792, 1.5824, 1.5935, 1.489, 1.5199, 1.28, 1.4112, 1.1407, 1.4291, 1.1378, 1.4013, 1.2723, 1.2981, 0.5042, 0.9541, 1.1334, 1.2046, 0.7369, 1.0766, 0.7833, 0.8893, 0.9365, 0.3721, 0.4826, 0.3283]}, \"token.table\": {\"Topic\": [1, 2, 3, 4, 1, 2, 3, 4, 1, 2, 4, 1, 2, 4, 1, 2, 4, 1, 2, 3, 4, 1, 2, 3, 4, 3, 4, 1, 4, 1, 2, 3, 4, 1, 4, 4, 4, 1, 2, 3, 4, 1, 2, 3, 4, 1, 2, 1, 2, 3, 4, 1, 4, 1, 2, 2, 1, 2, 1, 3, 3, 3, 4, 2, 2, 1, 1, 2, 4, 2, 1, 2, 2, 4, 1, 3, 3, 1, 3, 1, 2, 3, 1, 2, 2, 3, 4, 4, 1, 2, 1, 2, 3, 2, 4, 1, 2, 3, 4, 4, 1, 4, 4, 1, 1, 2, 3, 4, 2, 3, 1, 4, 1, 4, 1, 2, 3, 1, 2, 1, 2, 3, 4, 4, 4, 2, 2, 3, 4, 2, 3, 4, 3, 3, 1, 4, 3, 3, 1, 2, 3, 4, 1, 2, 1, 4, 4, 1, 3, 3, 1, 2, 4, 1, 2, 4, 2, 1, 2, 3, 2, 3, 4, 1, 2, 3, 3, 3, 1, 4, 1, 1, 2, 4, 4, 3, 4, 1, 2, 4, 2, 1, 3, 3, 1, 3, 4, 1, 3, 3, 1, 1, 3, 4, 4, 1, 2, 3, 4, 1, 2, 1, 1, 2, 3, 1, 3, 4, 1, 3, 1, 3, 4, 1, 2, 4, 4, 1, 3, 3, 1, 2, 4, 2, 2, 3, 4, 2, 3, 3, 2, 2, 2, 2, 3, 4, 1, 2, 3, 4, 4, 2, 4, 4, 2, 4, 1, 2, 3, 4, 1, 3, 1, 2, 3, 4, 2, 3, 4, 2, 3, 4, 2, 1, 2, 1, 1, 2, 3, 4, 4, 4, 3, 3, 1, 2, 4, 2, 3, 4, 2, 2, 3, 4, 4, 3, 4, 3, 2, 2, 4, 1, 2, 3, 4, 2, 1, 1, 1, 4, 1, 1, 1, 2, 4, 4, 4, 1, 4, 1, 4, 1, 2, 4, 1, 3, 2, 4, 1, 2, 3, 1, 4, 1, 2, 3, 4, 1, 2, 3, 3, 1, 2, 3, 4, 1, 1, 2, 3, 4, 1, 2, 3, 4, 4, 1, 2, 4, 3, 3, 4, 2, 1, 2, 3, 4, 2, 2, 2, 2, 3, 1, 2, 4, 1, 3, 4, 2, 1, 2, 1, 2, 3, 4, 1, 2, 3, 4, 1, 2, 3, 4, 3, 3, 2, 3, 4, 1, 2, 1, 3, 1, 2, 3, 4], \"Freq\": [0.3506762807364344, 0.23320836403654505, 0.08933484421294106, 0.3264917096511631, 0.2805052217392168, 0.2594001776959105, 0.42632188967478785, 0.034151798542804784, 0.5927408823089093, 0.2317547926469427, 0.17489302196033224, 0.6338136150199327, 0.11644869567295352, 0.2495329192991861, 0.6022747130608852, 0.11253264444336421, 0.28448252515282474, 0.31102711492260265, 0.15921626121037993, 0.4415474220776234, 0.08793921404061682, 0.42316379007284, 0.21595084272153783, 0.08675481831876809, 0.27399543339524596, 0.9966483338103354, 0.9980981307930215, 0.9711375832106759, 0.029238550892364434, 0.029451694337742394, 0.09130025244700142, 0.8187571025892386, 0.05890338867548479, 0.9975616375988243, 0.9986486005302463, 0.9933571155601129, 0.9976574585079913, 0.39027036703520807, 0.17628154259802875, 0.24556867297746787, 0.1875937271497739, 0.08677094316235055, 0.17588704695071058, 0.3056526015899015, 0.4315095551857433, 0.9409407053971208, 0.05865604397280753, 0.2618231516086974, 0.48170666794826705, 0.12941373168759415, 0.12701718110078683, 0.9979344635472776, 0.9985129317469892, 0.9961015899695669, 0.9974254894133935, 0.9992268564845674, 0.1237143457692407, 0.8758537753574562, 0.9172570733758351, 0.08210017014783709, 0.9997153874513233, 0.9989777286036566, 0.9981520085103579, 0.9993061534735616, 0.9988578303039612, 0.9955399894066186, 0.9347943329992685, 0.016603806980448818, 0.04815104024330157, 0.9994304231258069, 0.9942019588697522, 0.003336248184126685, 0.12491750824065663, 0.8744225576845964, 0.9964951460166306, 0.998015662037735, 0.9964557646556569, 0.9959059027404707, 0.9993228269674164, 0.7758081427797772, 0.2231571684829861, 0.9967961087957636, 0.8491446264107128, 0.14883883339333842, 0.3339958943926962, 0.1856624236477047, 0.48036468340596605, 0.9977739292074989, 0.9955273388568934, 0.9989452400914083, 0.14930155398222358, 0.7074746839026935, 0.14344659108095992, 0.9973325208395811, 0.9982196938285395, 0.0025725251528657986, 0.29455413000313396, 0.09003838035030295, 0.6122609863820601, 0.9944825543328559, 0.09651854266841331, 0.9027322520163362, 0.9970869670775094, 0.9977944024095977, 0.7916331301436857, 0.003288683626709674, 0.10147938048132707, 0.10335862826801831, 0.05972615178494402, 0.9395943390558266, 0.8902917832694923, 0.10866796766377627, 0.9922699982584129, 0.9949857851904863, 0.5775149279560002, 0.27454491172938306, 0.14767188433928935, 0.9940856641921925, 0.9971537750019817, 0.14443428853208493, 0.2838634284516719, 0.25168747308561334, 0.3196144899695147, 0.9956423278370293, 0.9932532125645223, 0.9988561393556347, 0.10119250338245604, 0.7806278832360894, 0.11564857529423547, 0.13765823906904526, 0.8312439820707733, 0.031767285939010445, 0.9986426597210897, 0.9984247914500652, 0.9656566068178186, 0.03452296347152569, 0.9991057374568638, 0.9983575779834918, 0.14557506462334976, 0.043417124536788525, 0.7738463961557014, 0.03703225328137845, 0.5443097727793577, 0.4555075957199432, 0.9921360057433607, 0.9997219794258552, 0.9917254665574923, 0.4009822062813847, 0.5988177981222003, 0.9979755099751848, 0.8911737939746869, 0.10859564607428486, 0.0005745801379591791, 0.4439172577417101, 0.4385780467379438, 0.11746264208285799, 0.9986692854398427, 0.8120111929968128, 0.02904361942164457, 0.15852975600980995, 0.7735207736562998, 0.08853551023776925, 0.13746302905337857, 0.41380743170981965, 0.5863260028094722, 0.9989967288667508, 0.9988158422951845, 0.9990336625241762, 0.94760926078395, 0.05168777786094273, 0.9947614264288541, 0.24491058393492557, 0.7549074520831688, 0.9979276453192166, 0.9963708369535427, 0.13388922508110754, 0.8658640914875847, 0.30398360404968167, 0.5376185608776748, 0.1587685065737191, 0.9973665660756804, 0.9966417917266247, 0.9982589999510317, 0.9995352216722084, 0.8557755843337875, 0.0661840829610663, 0.07695823600123988, 0.9969050786248368, 0.9969477936305332, 0.9970517576044374, 0.9950460100147553, 0.7560481128327978, 0.027645638466064153, 0.21635717060398033, 0.9983218283495666, 0.3553065653709626, 0.34399373840750036, 0.1353349299703077, 0.16508347494830103, 0.9977944024095977, 0.9977981201202235, 0.9963735463605125, 0.0015235700663642673, 0.8311074712017078, 0.16683092226688725, 0.004377679963457259, 0.004377679963457259, 0.9937333517047978, 0.9992236075414046, 0.9969798333265688, 0.003528993326244597, 0.003528993326244597, 0.9916471246747318, 0.8625798706635319, 0.01847066104204565, 0.11821223066909217, 0.996585889093093, 0.27279706104571905, 0.7249675320941027, 0.9974425300161032, 0.20381792590993872, 0.17893714231223717, 0.6172479328142124, 0.9996082173667095, 0.1119239447839496, 0.7262041998772544, 0.1613787110838343, 0.5371477728035425, 0.462598410617514, 0.996476075430637, 0.9991728272382314, 0.9982345458323547, 0.9979975577120215, 0.9989246002733155, 0.0008762496493625575, 0.9996537001483566, 0.16317093771656588, 0.2259289906844758, 0.19903268226965726, 0.4124100623605511, 0.9991846946078226, 0.29534034254957786, 0.7042731245413011, 0.9955549987323851, 0.7368929935779428, 0.2626549284040192, 0.9970945254368256, 0.2858734105255918, 0.09824917656644507, 0.6154835512646333, 0.9963322250468144, 0.9978306287371571, 0.17874617163301745, 0.4019113020850183, 0.29220182548391477, 0.12737002649298848, 0.4463872838532932, 0.04101937202976207, 0.5123399996658519, 0.15674439637818946, 0.18467904127727275, 0.6580160798450726, 0.9969976081132275, 0.9962265257082028, 0.9984393081208758, 0.994123504459598, 0.07128761984378801, 0.1524458332044082, 0.2730864206323571, 0.5034002693584414, 0.9933672810323901, 0.9975663410121675, 0.9969366940455657, 0.9986926491949281, 0.017834180249826168, 0.1723970757483196, 0.8084828379921196, 0.18779228661612868, 0.0891539138480611, 0.7227157697044952, 0.9974308213393044, 0.2684461643023644, 0.6604385746757033, 0.07016206566993616, 0.9990850137069068, 0.8957501051473131, 0.10391532542312217, 0.9992206442757525, 0.9984631313663099, 0.9978610791202636, 0.9942337806339461, 0.04054387358911087, 0.1256860081262437, 0.032435098871288696, 0.8007415033849398, 0.9987302829414462, 0.9981511277440092, 0.9971002843722792, 0.9445926855791092, 0.05494275128648063, 0.9957498995626786, 0.9964032297074419, 0.10944005764157311, 0.1809553428330961, 0.7093738389704607, 0.9957133540866401, 0.9968221273622467, 0.9991637302685336, 0.9953787279896041, 0.9769444562640559, 0.022588311127492624, 0.1468476921811214, 0.27443667063357113, 0.5789650814681917, 0.9982946081546415, 0.9970709878814866, 0.174701756154551, 0.8238776000470303, 0.8607601009906082, 0.0855121934390233, 0.052622888270168186, 0.038853348221689656, 0.961620368486819, 0.07187087068139897, 0.6874861154523983, 0.08129655863961523, 0.15846937879751083, 0.7660317813126031, 0.18903915045283393, 0.04514367772007974, 0.9964719628700608, 0.06303040169461817, 0.8614154898264482, 0.031515200847309084, 0.04367896257784943, 0.9952621445485204, 0.3538535506720777, 0.3030584442046343, 0.18092189606943326, 0.16151702393580322, 0.1839063230094814, 0.08885361673491798, 0.575482145597085, 0.1518776937213133, 0.9966229740890261, 0.7228286496405474, 0.02598718181131129, 0.2502469359607754, 0.999761814727125, 0.9965132981330819, 0.9981905195847421, 0.9977609132606782, 0.20406599422911978, 0.5034128019402183, 0.13429343002578104, 0.15755095142689396, 0.9983280264274427, 0.9973357872711975, 0.9989997025423397, 0.999068240732076, 0.0008590440590989475, 0.7793524785264576, 0.05107159099124886, 0.1695576820909462, 0.6615903466291964, 0.07587827429123516, 0.26258998294045427, 0.9990202121905706, 0.9988590975045288, 0.9995795332890522, 0.2913719381087979, 0.3471160945176724, 0.2281161577866708, 0.13283713867646688, 0.0795972699577765, 0.3389303107879515, 0.3842921958176521, 0.1968534633364365, 0.1646200919356154, 0.28445383532992363, 0.2644815447642056, 0.2862694981086253, 0.9982077474713777, 0.9979661332561461, 0.9988900302548143, 0.026040153173910358, 0.9721657184926533, 0.8541080373142222, 0.14464732889998924, 0.15560126911976188, 0.8443174349705224, 0.7241503983951086, 0.0961637726408765, 0.07384952705570073, 0.10572702074880896], \"Term\": [\"'s\", \"'s\", \"'s\", \"'s\", \"2\", \"2\", \"2\", \"2\", \"2011\", \"2011\", \"2011\", \"2012\", \"2012\", \"2012\", \"2013\", \"2013\", \"2013\", \"3\", \"3\", \"3\", \"3\", \"accident\", \"accident\", \"accident\", \"accident\", \"acid\", \"activated\", \"admitted\", \"admitted\", \"air\", \"air\", \"air\", \"air\", \"ambulance\", \"amputated\", \"amputating\", \"amputation\", \"area\", \"area\", \"area\", \"area\", \"arm\", \"arm\", \"arm\", \"arm\", \"arrived\", \"arrived\", \"back\", \"back\", \"back\", \"back\", \"bin\", \"blade\", \"boat\", \"boom\", \"bridge\", \"bucket\", \"bucket\", \"building\", \"building\", \"burn\", \"burned\", \"button\", \"cab\", \"cable\", \"cal/osha\", \"called\", \"called\", \"called\", \"car\", \"carrying\", \"carrying\", \"caught\", \"caught\", \"ceiling\", \"chemical\", \"circuit\", \"city\", \"conductor\", \"construction\", \"construction\", \"contained\", \"contractor\", \"contractor\", \"control\", \"control\", \"control\", \"conveyor\", \"county\", \"crane\", \"crew\", \"crew\", \"crew\", \"crossing\", \"curtain\", \"cut\", \"cut\", \"cut\", \"cut\", \"cutter\", \"cutting\", \"cutting\", \"cycle\", \"datesicestablishment\", \"day\", \"day\", \"day\", \"day\", \"degree\", \"degree\", \"department\", \"department\", \"diagnosed\", \"die\", \"died\", \"died\", \"died\", \"disease\", \"dock\", \"door\", \"door\", \"door\", \"door\", \"draw\", \"drill\", \"driver\", \"drum\", \"drum\", \"drum\", \"electric\", \"electric\", \"electric\", \"electrical\", \"electrocuted\", \"emergency\", \"emergency\", \"energized\", \"explosion\", \"face\", \"face\", \"face\", \"face\", \"fell\", \"fell\", \"felt\", \"finger\", \"fingertip\", \"fire\", \"fire\", \"flash\", \"floor\", \"floor\", \"floor\", \"foot\", \"foot\", \"foot\", \"forklift\", \"found\", \"found\", \"found\", \"front\", \"front\", \"front\", \"ft\", \"ft\", \"fuel\", \"gallon\", \"gas\", \"general\", \"general\", \"grain\", \"ground\", \"ground\", \"guard\", \"guarded\", \"hand\", \"hand\", \"head\", \"head\", \"head\", \"hoist\", \"home\", \"hose\", \"hot\", \"hour\", \"hour\", \"hour\", \"house\", \"hydrogen\", \"ignited\", \"illness\", \"incident\", \"incident\", \"incident\", \"index\", \"injury\", \"injury\", \"injury\", \"injury\", \"inspectionopen\", \"jack\", \"joist\", \"killed\", \"killed\", \"killed\", \"kiln\", \"kiln\", \"kiln\", \"ladder\", \"ladle\", \"laser\", \"laser\", \"laser\", \"later\", \"later\", \"later\", \"lathe\", \"lead\", \"lead\", \"leak\", \"left\", \"left\", \"left\", \"lift\", \"light\", \"light\", \"light\", \"line\", \"line\", \"liquid\", \"load\", \"loader\", \"loading\", \"locomotive\", \"locomotive\", \"machine\", \"metal\", \"metal\", \"metal\", \"metal\", \"middle\", \"model\", \"model\", \"mold\", \"moving\", \"moving\", \"name\", \"number\", \"number\", \"number\", \"office\", \"oil\", \"one\", \"one\", \"one\", \"one\", \"operating\", \"operating\", \"operating\", \"operation\", \"operation\", \"operation\", \"overhead\", \"pain\", \"pallet\", \"paramedic\", \"part\", \"part\", \"part\", \"part\", \"partial\", \"pedal\", \"percent\", \"phase\", \"piece\", \"piece\", \"piece\", \"point\", \"point\", \"point\", \"pole\", \"power\", \"power\", \"power\", \"press\", \"pressure\", \"pressure\", \"pump\", \"rail\", \"railroad\", \"ram\", \"reached\", \"reached\", \"reached\", \"reached\", \"rear\", \"related\", \"report\", \"reported\", \"reported\", \"rescue\", \"responded\", \"right\", \"right\", \"right\", \"ring\", \"roller\", \"roof\", \"rotating\", \"san\", \"san\", \"saw\", \"saw\", \"saw\", \"scaffold\", \"second-degree\", \"serial\", \"serial\", \"service\", \"service\", \"service\", \"shaft\", \"shaft\", \"side\", \"side\", \"side\", \"side\", \"site\", \"site\", \"site\", \"steam\", \"struck\", \"struck\", \"struck\", \"struck\", \"summoned\", \"sustained\", \"sustained\", \"sustained\", \"sustained\", \"system\", \"system\", \"system\", \"system\", \"table\", \"taken\", \"taken\", \"taken\", \"tank\", \"test\", \"thumb\", \"tire\", \"top\", \"top\", \"top\", \"top\", \"track\", \"tractor\", \"trailer\", \"train\", \"train\", \"transported\", \"transported\", \"transported\", \"treated\", \"treated\", \"treated\", \"tree\", \"trench\", \"truck\", \"two\", \"two\", \"two\", \"two\", \"used\", \"used\", \"used\", \"used\", \"using\", \"using\", \"using\", \"using\", \"valve\", \"vapor\", \"vehicle\", \"violation\", \"violation\", \"wall\", \"wall\", \"water\", \"water\", \"work\", \"work\", \"work\", \"work\"]}, \"R\": 30, \"lambda.step\": 0.01, \"plot.opts\": {\"xlab\": \"PC1\", \"ylab\": \"PC2\"}, \"topic.order\": [1, 4, 2, 3]};\n",
       "\n",
       "function LDAvis_load_lib(url, callback){\n",
       "  var s = document.createElement('script');\n",
       "  s.src = url;\n",
       "  s.async = true;\n",
       "  s.onreadystatechange = s.onload = callback;\n",
       "  s.onerror = function(){console.warn(\"failed to load library \" + url);};\n",
       "  document.getElementsByTagName(\"head\")[0].appendChild(s);\n",
       "}\n",
       "\n",
       "if(typeof(LDAvis) !== \"undefined\"){\n",
       "   // already loaded: just create the visualization\n",
       "   !function(LDAvis){\n",
       "       new LDAvis(\"#\" + \"ldavis_el106825559968572809218407846\", ldavis_el106825559968572809218407846_data);\n",
       "   }(LDAvis);\n",
       "}else if(typeof define === \"function\" && define.amd){\n",
       "   // require.js is available: use it to load d3/LDAvis\n",
       "   require.config({paths: {d3: \"https://d3js.org/d3.v5\"}});\n",
       "   require([\"d3\"], function(d3){\n",
       "      window.d3 = d3;\n",
       "      LDAvis_load_lib(\"https://cdn.jsdelivr.net/gh/bmabey/pyLDAvis@3.3.1/pyLDAvis/js/ldavis.v3.0.0.js\", function(){\n",
       "        new LDAvis(\"#\" + \"ldavis_el106825559968572809218407846\", ldavis_el106825559968572809218407846_data);\n",
       "      });\n",
       "    });\n",
       "}else{\n",
       "    // require.js not available: dynamically load d3 & LDAvis\n",
       "    LDAvis_load_lib(\"https://d3js.org/d3.v5.js\", function(){\n",
       "         LDAvis_load_lib(\"https://cdn.jsdelivr.net/gh/bmabey/pyLDAvis@3.3.1/pyLDAvis/js/ldavis.v3.0.0.js\", function(){\n",
       "                 new LDAvis(\"#\" + \"ldavis_el106825559968572809218407846\", ldavis_el106825559968572809218407846_data);\n",
       "            })\n",
       "         });\n",
       "}\n",
       "</script>"
      ],
      "text/plain": [
       "<IPython.core.display.HTML object>"
      ]
     },
     "execution_count": 21,
     "metadata": {},
     "output_type": "execute_result"
    }
   ],
   "source": [
    "# visualise LDA model\n",
    "import pyLDAvis\n",
    "import pyLDAvis.gensim_models as gensimvis\n",
    "\n",
    "pyLDAvis.enable_notebook()\n",
    "LDAvis_prepared = gensimvis.prepare(lda, dtm, dictionary)\n",
    "pyLDAvis.display(LDAvis_prepared)"
   ]
  },
  {
   "cell_type": "markdown",
   "metadata": {},
   "source": [
    "A lambda value of 0.6 appears to be effective in picking out the top relevant terms for each topic."
   ]
  },
  {
   "cell_type": "markdown",
   "metadata": {},
   "source": [
    "#### Question 1: What are the major types of accidents reflected in the reports?\n",
    "\n",
    "Based on the 4 topics, the main themes identified are:\n",
    "* Cluster 0: Fall-related accidents e.g. fall from roof\n",
    "* Cluster 1: Fire/electric/gas related accidents e.g. explosions, flash fires\n",
    "* Cluster 2: Machine-related accidents e.g. cuts, amputations\n",
    "* Cluster 3: Vehicular accidents e.g. forklift, truck"
   ]
  },
  {
   "cell_type": "code",
   "execution_count": 22,
   "metadata": {},
   "outputs": [
    {
     "name": "stdout",
     "output_type": "stream",
     "text": [
      "[(0, 0.26335874), (1, 0.3349959), (3, 0.3989527)]\n",
      "3\n",
      "[(0, 0.22765592), (3, 0.7533047)]\n",
      "3\n",
      "[(0, 0.4375805), (2, 0.035577316), (3, 0.52227616)]\n",
      "3\n",
      "[(0, 0.13666488), (1, 0.14301474), (2, 0.20729439), (3, 0.513026)]\n",
      "3\n",
      "[(0, 0.08884344), (1, 0.6412622), (2, 0.07818504), (3, 0.19170932)]\n",
      "1\n",
      "[(0, 0.45756027), (1, 0.41209266), (2, 0.12301386)]\n",
      "0\n",
      "[(0, 0.101972364), (1, 0.18397532), (2, 0.52656305), (3, 0.18748923)]\n",
      "2\n",
      "[(0, 0.39974663), (2, 0.038795847), (3, 0.55600595)]\n",
      "3\n",
      "[(0, 0.3562691), (3, 0.624617)]\n",
      "3\n",
      "[(0, 0.8678843), (3, 0.11545771)]\n",
      "0\n"
     ]
    },
    {
     "name": "stderr",
     "output_type": "stream",
     "text": [
      "C:\\Users\\desmo\\anaconda3\\lib\\site-packages\\ipykernel\\ipkernel.py:287: DeprecationWarning: `should_run_async` will not call `transform_cell` automatically in the future. Please pass the result to `transformed_cell` argument and any exception that happen during thetransform in `preprocessing_exc_tuple` in IPython 7.17 and above.\n",
      "  and should_run_async(code)\n"
     ]
    }
   ],
   "source": [
    "# add labels to topics based on observation\n",
    "dict = {0: 'fall', 1: 'fire', 2: 'machine', 3: 'vehicle'}\n",
    "\n",
    "# get topic distribution of documents\n",
    "doc_topics = lda.get_document_topics(dtm)\n",
    "\n",
    "from operator import itemgetter\n",
    "# show the topic distributions for the first 10 docs\n",
    "for i in range(0, 10):\n",
    "    print(doc_topics[i])\n",
    "    print(max(doc_topics[i], key=itemgetter(1))[0])"
   ]
  },
  {
   "cell_type": "markdown",
   "metadata": {},
   "source": [
    "Here, we can see that for some documents e.g. index 0 and 5, there isn't a very clear and distinct category that stands out based on the probability distribution. This highlights the possibility of using other soft classification methods to explore if certain documents could have multiple topic labels. "
   ]
  },
  {
   "cell_type": "code",
   "execution_count": 23,
   "metadata": {},
   "outputs": [
    {
     "name": "stderr",
     "output_type": "stream",
     "text": [
      "C:\\Users\\desmo\\anaconda3\\lib\\site-packages\\ipykernel\\ipkernel.py:287: DeprecationWarning: `should_run_async` will not call `transform_cell` automatically in the future. Please pass the result to `transformed_cell` argument and any exception that happen during thetransform in `preprocessing_exc_tuple` in IPython 7.17 and above.\n",
      "  and should_run_async(code)\n"
     ]
    }
   ],
   "source": [
    "# select the best topic (with highest score) for each document\n",
    "top_topic = [max(t, key=itemgetter(1))[0] for t in doc_topics]\n",
    "#print(top_topic)\n",
    "\n",
    "topics_perDoc = [dict[t] for t in top_topic]\n",
    "#print(topics_perDoc)"
   ]
  },
  {
   "cell_type": "code",
   "execution_count": 24,
   "metadata": {},
   "outputs": [
    {
     "name": "stdout",
     "output_type": "stream",
     "text": [
      "\u001b[1mQuestion 2: Which type of accidents has the largest number of occurrences?\u001b[0m\n",
      "\n",
      "Number of reports involving falls:  3019\n",
      "Number of reports involving fire/electric/gas:  2117\n",
      "Number of reports involving machines/cuts:  1747\n",
      "Number of reports involving vehicles:  3117\n",
      "Total number of reports:  10000\n"
     ]
    },
    {
     "name": "stderr",
     "output_type": "stream",
     "text": [
      "C:\\Users\\desmo\\anaconda3\\lib\\site-packages\\ipykernel\\ipkernel.py:287: DeprecationWarning: `should_run_async` will not call `transform_cell` automatically in the future. Please pass the result to `transformed_cell` argument and any exception that happen during thetransform in `preprocessing_exc_tuple` in IPython 7.17 and above.\n",
      "  and should_run_async(code)\n"
     ]
    }
   ],
   "source": [
    "# count freq of each topic\n",
    "print(\"\\033[1m\"+\"Question 2: Which type of accidents has the largest number of occurrences?\"+\"\\033[0m\")\n",
    "print(\"\")\n",
    "print(\"Number of reports involving falls: \",topics_perDoc.count('fall'))\n",
    "print(\"Number of reports involving fire/electric/gas: \",topics_perDoc.count('fire'))\n",
    "print(\"Number of reports involving machines/cuts: \",topics_perDoc.count('machine'))\n",
    "print(\"Number of reports involving vehicles: \",topics_perDoc.count('vehicle'))\n",
    "print(\"Total number of reports: \",len(topics_perDoc))"
   ]
  },
  {
   "cell_type": "markdown",
   "metadata": {},
   "source": [
    "We can see that accidents involving vehicular-related events have the largest number of occurrences, with incidents involving falls following closely behind. "
   ]
  },
  {
   "cell_type": "code",
   "execution_count": 25,
   "metadata": {
    "scrolled": false
   },
   "outputs": [
    {
     "name": "stderr",
     "output_type": "stream",
     "text": [
      "C:\\Users\\desmo\\anaconda3\\lib\\site-packages\\ipykernel\\ipkernel.py:287: DeprecationWarning: `should_run_async` will not call `transform_cell` automatically in the future. Please pass the result to `transformed_cell` argument and any exception that happen during thetransform in `preprocessing_exc_tuple` in IPython 7.17 and above.\n",
      "  and should_run_async(code)\n"
     ]
    },
    {
     "data": {
      "text/html": [
       "<div>\n",
       "<style scoped>\n",
       "    .dataframe tbody tr th:only-of-type {\n",
       "        vertical-align: middle;\n",
       "    }\n",
       "\n",
       "    .dataframe tbody tr th {\n",
       "        vertical-align: top;\n",
       "    }\n",
       "\n",
       "    .dataframe thead th {\n",
       "        text-align: right;\n",
       "    }\n",
       "</style>\n",
       "<table border=\"1\" class=\"dataframe\">\n",
       "  <thead>\n",
       "    <tr style=\"text-align: right;\">\n",
       "      <th></th>\n",
       "      <th>id</th>\n",
       "      <th>title</th>\n",
       "      <th>text</th>\n",
       "      <th>title_count</th>\n",
       "      <th>text_count</th>\n",
       "      <th>topic</th>\n",
       "    </tr>\n",
       "  </thead>\n",
       "  <tbody>\n",
       "    <tr>\n",
       "      <th>0</th>\n",
       "      <td>201079928</td>\n",
       "      <td>Employee Is Burned By Forklift Radiator Fluid</td>\n",
       "      <td>At approximately 11:30 a.m. on November 13  2013  Employee #1  with Edco Waste  &amp; Recycling Services  was operating a forklift (Linde Lift Truck; Serial  Number: H2X393S04578; identified by the employer as FL-3) from approximately  4:00 a.m.  moving bales of recyclable paper products from a collection area in  the yard into trucks. Then  Employee #1 cleaned and was replacing an air  filter on the forklift FL-3. To clean out the air filter  Employee #1 parked  FL-3 in the doorway of the maintenance building. The air filter was located on  the rear of the forklift  behind the cab frame on the driver's side. Employee  #1 removed the air filter and cleaned it out  and then he climbed up onto the  back of the forklift to replace it. While up on the back of the forklift   Employee #1's foot dislodged the cooling system radiator cap. The fluid in the  lift truck's cooling system was hot and under pressure from being operated all  morning. The hot fluid sprayed up and out of the reservoir. Employee #1 was  burned on the upper legs and the groin area. Employee #1 jumped off of the  back of the forklift onto the ground. Coworkers came to his assistance and  called emergency services. Employee #1 was hospitalized at a burn center for  over 24 hours  for treatment of second degree burns to the upper legs and  groin area.</td>\n",
       "      <td>7</td>\n",
       "      <td>229</td>\n",
       "      <td>vehicle</td>\n",
       "    </tr>\n",
       "    <tr>\n",
       "      <th>1</th>\n",
       "      <td>202561825</td>\n",
       "      <td>Employee Falls From Flatbed Trailer And Later Dies</td>\n",
       "      <td>On August 30  2013  Employee #1 was working from a flatbed trailer. As he  worked  he fell from the flatbed trailer onto the ground  striking his  abdomen. The fall height of the flatbed trailer was 57 inches. Employee #1  sustained unspecified injuries in the fall that later on caused his death.</td>\n",
       "      <td>8</td>\n",
       "      <td>51</td>\n",
       "      <td>vehicle</td>\n",
       "    </tr>\n",
       "    <tr>\n",
       "      <th>2</th>\n",
       "      <td>200361855</td>\n",
       "      <td>Two Workers Are Struck By Motor Vehicle And One Is Killed</td>\n",
       "      <td>On August 27  2013  Employees #1 and #2  of Templar Inc.  a construction  company specializing in fiber optic installation and services  were working  along a highway. The highway speed limit was posted at 55 miles per hour.  Employee #1 was marking the location of an underground line that ran below the  turn lane. Employee #2 was next to Employee #1 and performing the duties of a  flagger. A privately owned vehicle was travelling in the travel/through lane.  The vehicle veered to the right  entered the turn lane  and struck both  workers. Emergency medical services were called. Employee #1 was declared dead  at the scene. Employee #2 refused emergency medical treatment for the bruises  he received when struck.</td>\n",
       "      <td>11</td>\n",
       "      <td>117</td>\n",
       "      <td>vehicle</td>\n",
       "    </tr>\n",
       "    <tr>\n",
       "      <th>3</th>\n",
       "      <td>200361863</td>\n",
       "      <td>Employee Is Struck By Bales Of Wire And Killed</td>\n",
       "      <td>On August 26  2013  Employee #1  with Lee Iron and Metal Company  Inc.  was  using a forklift (Hyster 50 sit down rider) to move and stack bundled cubes of  recycled insulated co-axial (coax) cable and insulated copper wire. The cubes  weighed anywhere from 1 000 to 2 000 lbs. Employee #1 had completed stacking  one column  consisting of five cubes in height  along the northeast wall of  the recycling warehouse. Employee #1 was beginning a new second column  directly in front of the existing first column. Employee #1 placed the first  cube of the second column tight against the bottom cube of the existing first  column. Employee #1 then backed the forklift up  approximately 5 ft  and  exited the forklift. Employee #1 then stepped in between the forklift and the  cubes to either clean off the top from possible loose wires that created a  hump or to place 4 ft by 4 ft dunnage so the next cube could be stacked. The  five tier stack of cubes began to overturn. The first one went over Employee  #1's head and settled on the forks. The second cube (weighing 1 948 lbs)  struck Employee #1 on the left side of his face and upper torso and forced him  back and down. Employee #1 was pinned between the first cube that fell and  second cube. A third cube also fell  which struck Employee #1's legs. Employee  #1 received a puncture wound to the right abdomen area which caused increased  blood loss. According to the medical examiner's report  Employee #1 died at  the scene from blunt force trauma to the head.</td>\n",
       "      <td>9</td>\n",
       "      <td>267</td>\n",
       "      <td>vehicle</td>\n",
       "    </tr>\n",
       "    <tr>\n",
       "      <th>4</th>\n",
       "      <td>201079324</td>\n",
       "      <td>Employee Is Splashed With Hot Water And Is Burned</td>\n",
       "      <td>On July 14  2013  Employee #1  vacuum pump truck driver and operator  was  offloading hot brine water at a geothermal power plant. He was assigned to  transfer loads of the brine between power plants and had already made several  trips between facilities. When he arrived at the plant  Employee #1 connected  the hose to the vehicle's tank outlet valve and proceeded to empty the tanks  contents by gravity. While the tank was left emptying  he went inside the  plant's control center briefly to cool off and to get a drink of water.  Employee #1 noticed that the flow of brine had stopped due to a clog in the  hose when he returned. He tried to clear the hose by switching the truck to  vacuum. As he did this  he noticed that the flow was still impeded. Employee  #1 loosened the hose coupler on the truck's valve  which caused hot  pressurized brine to flow out. He attempted to hold the hose  but eventually  let go  causing the hot brine water to splash on his left abdomen  right leg   left leg and left shoulder. Employee #1 rushed into the control room and  removed his hot brine soaked clothing. A coworker observed the pump truck with  the brine pouring out and Employee #1 running toward the control room. This  coworker shut off the valve on the pump truck and went to check on Employee  #1. Employee #1 was taken to a hospital and was then transferred to the burn  unit of a medical center. He was admitted to the medical center  where he was  treated for second and third-degree burns and then hospitalized.</td>\n",
       "      <td>9</td>\n",
       "      <td>270</td>\n",
       "      <td>fire</td>\n",
       "    </tr>\n",
       "    <tr>\n",
       "      <th>5</th>\n",
       "      <td>202658258</td>\n",
       "      <td>Employee Suffers Burns While Moving Soup</td>\n",
       "      <td>On June 30  2013  Employee #1 was working in a food Taqueria for a  supermarket. The employee was in the kitchen area transferring soup from the  kitchen area to a refrigerator. While in the refrigerator  the employee lifted  the pail while hot and the pail was soft due to the heat  it folded causing  the liquid to spill on her the employee's arm  chest and abdomen area.  Employee #1 was transported to an area hospital  where she was treated for  second and third degree burns and remains hospitalized.</td>\n",
       "      <td>6</td>\n",
       "      <td>88</td>\n",
       "      <td>fall</td>\n",
       "    </tr>\n",
       "  </tbody>\n",
       "</table>\n",
       "</div>"
      ],
      "text/plain": [
       "          id                                                        title  \\\n",
       "0  201079928   Employee Is Burned By Forklift Radiator Fluid                \n",
       "1  202561825   Employee Falls From Flatbed Trailer And Later Dies           \n",
       "2  200361855   Two Workers Are Struck By Motor Vehicle And One Is Killed    \n",
       "3  200361863   Employee Is Struck By Bales Of Wire And Killed               \n",
       "4  201079324   Employee Is Splashed With Hot Water And Is Burned            \n",
       "5  202658258   Employee Suffers Burns While Moving Soup                     \n",
       "\n",
       "                                                                                                                                                                                                                                                                                                                                                                                                                                                                                                                                                                                                                                                                                                                                                                                                                                                                                                                                                                                                                                                                                                                                                                                                                                                                                                                                                                                                                                                                                                                                                                                                               text  \\\n",
       "0   At approximately 11:30 a.m. on November 13  2013  Employee #1  with Edco Waste  & Recycling Services  was operating a forklift (Linde Lift Truck; Serial  Number: H2X393S04578; identified by the employer as FL-3) from approximately  4:00 a.m.  moving bales of recyclable paper products from a collection area in  the yard into trucks. Then  Employee #1 cleaned and was replacing an air  filter on the forklift FL-3. To clean out the air filter  Employee #1 parked  FL-3 in the doorway of the maintenance building. The air filter was located on  the rear of the forklift  behind the cab frame on the driver's side. Employee  #1 removed the air filter and cleaned it out  and then he climbed up onto the  back of the forklift to replace it. While up on the back of the forklift   Employee #1's foot dislodged the cooling system radiator cap. The fluid in the  lift truck's cooling system was hot and under pressure from being operated all  morning. The hot fluid sprayed up and out of the reservoir. Employee #1 was  burned on the upper legs and the groin area. Employee #1 jumped off of the  back of the forklift onto the ground. Coworkers came to his assistance and  called emergency services. Employee #1 was hospitalized at a burn center for  over 24 hours  for treatment of second degree burns to the upper legs and  groin area.                                                                                                                                                                                                                                \n",
       "1   On August 30  2013  Employee #1 was working from a flatbed trailer. As he  worked  he fell from the flatbed trailer onto the ground  striking his  abdomen. The fall height of the flatbed trailer was 57 inches. Employee #1  sustained unspecified injuries in the fall that later on caused his death.                                                                                                                                                                                                                                                                                                                                                                                                                                                                                                                                                                                                                                                                                                                                                                                                                                                                                                                                                                                                                                                                                                                                                                                                                                                                                                         \n",
       "2   On August 27  2013  Employees #1 and #2  of Templar Inc.  a construction  company specializing in fiber optic installation and services  were working  along a highway. The highway speed limit was posted at 55 miles per hour.  Employee #1 was marking the location of an underground line that ran below the  turn lane. Employee #2 was next to Employee #1 and performing the duties of a  flagger. A privately owned vehicle was travelling in the travel/through lane.  The vehicle veered to the right  entered the turn lane  and struck both  workers. Emergency medical services were called. Employee #1 was declared dead  at the scene. Employee #2 refused emergency medical treatment for the bruises  he received when struck.                                                                                                                                                                                                                                                                                                                                                                                                                                                                                                                                                                                                                                                                                                                                                                                                                                                                  \n",
       "3   On August 26  2013  Employee #1  with Lee Iron and Metal Company  Inc.  was  using a forklift (Hyster 50 sit down rider) to move and stack bundled cubes of  recycled insulated co-axial (coax) cable and insulated copper wire. The cubes  weighed anywhere from 1 000 to 2 000 lbs. Employee #1 had completed stacking  one column  consisting of five cubes in height  along the northeast wall of  the recycling warehouse. Employee #1 was beginning a new second column  directly in front of the existing first column. Employee #1 placed the first  cube of the second column tight against the bottom cube of the existing first  column. Employee #1 then backed the forklift up  approximately 5 ft  and  exited the forklift. Employee #1 then stepped in between the forklift and the  cubes to either clean off the top from possible loose wires that created a  hump or to place 4 ft by 4 ft dunnage so the next cube could be stacked. The  five tier stack of cubes began to overturn. The first one went over Employee  #1's head and settled on the forks. The second cube (weighing 1 948 lbs)  struck Employee #1 on the left side of his face and upper torso and forced him  back and down. Employee #1 was pinned between the first cube that fell and  second cube. A third cube also fell  which struck Employee #1's legs. Employee  #1 received a puncture wound to the right abdomen area which caused increased  blood loss. According to the medical examiner's report  Employee #1 died at  the scene from blunt force trauma to the head.                                     \n",
       "4   On July 14  2013  Employee #1  vacuum pump truck driver and operator  was  offloading hot brine water at a geothermal power plant. He was assigned to  transfer loads of the brine between power plants and had already made several  trips between facilities. When he arrived at the plant  Employee #1 connected  the hose to the vehicle's tank outlet valve and proceeded to empty the tanks  contents by gravity. While the tank was left emptying  he went inside the  plant's control center briefly to cool off and to get a drink of water.  Employee #1 noticed that the flow of brine had stopped due to a clog in the  hose when he returned. He tried to clear the hose by switching the truck to  vacuum. As he did this  he noticed that the flow was still impeded. Employee  #1 loosened the hose coupler on the truck's valve  which caused hot  pressurized brine to flow out. He attempted to hold the hose  but eventually  let go  causing the hot brine water to splash on his left abdomen  right leg   left leg and left shoulder. Employee #1 rushed into the control room and  removed his hot brine soaked clothing. A coworker observed the pump truck with  the brine pouring out and Employee #1 running toward the control room. This  coworker shut off the valve on the pump truck and went to check on Employee  #1. Employee #1 was taken to a hospital and was then transferred to the burn  unit of a medical center. He was admitted to the medical center  where he was  treated for second and third-degree burns and then hospitalized.                                \n",
       "5   On June 30  2013  Employee #1 was working in a food Taqueria for a  supermarket. The employee was in the kitchen area transferring soup from the  kitchen area to a refrigerator. While in the refrigerator  the employee lifted  the pail while hot and the pail was soft due to the heat  it folded causing  the liquid to spill on her the employee's arm  chest and abdomen area.  Employee #1 was transported to an area hospital  where she was treated for  second and third degree burns and remains hospitalized.                                                                                                                                                                                                                                                                                                                                                                                                                                                                                                                                                                                                                                                                                                                                                                                                                                                                                                                                                                                                                                                                                        \n",
       "\n",
       "   title_count  text_count    topic  \n",
       "0  7            229         vehicle  \n",
       "1  8            51          vehicle  \n",
       "2  11           117         vehicle  \n",
       "3  9            267         vehicle  \n",
       "4  9            270         fire     \n",
       "5  6            88          fall     "
      ]
     },
     "execution_count": 25,
     "metadata": {},
     "output_type": "execute_result"
    }
   ],
   "source": [
    "# add topic category back to dataframe\n",
    "df['topic'] = topics_perDoc\n",
    "pd.set_option(\"display.max_colwidth\", -1)\n",
    "df.head(6)"
   ]
  },
  {
   "cell_type": "markdown",
   "metadata": {},
   "source": [
    "If we look at the probability distribution across topics for index 0 and 5 again:\n",
    "\n",
    "Index 0: [('fall', 0.26335874), ('fire', 0.3349959), ('vehicle', 0.3989527)]; model prediction: 'vehicle'\n",
    "* Here we see that the prediction probabilities of 'fire' and 'vehicle' are quite close, which corroborates with the report as the employee was burned by the radiator fluid within the forklift. There are multiple terms suggested both the topics of fire/gas/electric and vehicle related incidents.\n",
    "\n",
    "Index 5: [('fall', 0.45756027), ('fire', 0.41209266), ('machine', 0.12301386)]; model prediction: 'fall'\n",
    "* This is a rather unique entry. The text report does not seem to have any indication of a fall or have terms related to falls, yet the model predicted it to be within the fall-related incidents category. 'fire' was rather close behind, and it was understandable why as there were terms such as 'burns' and 'heat'."
   ]
  },
  {
   "cell_type": "code",
   "execution_count": 26,
   "metadata": {},
   "outputs": [
    {
     "name": "stderr",
     "output_type": "stream",
     "text": [
      "C:\\Users\\desmo\\anaconda3\\lib\\site-packages\\ipykernel\\ipkernel.py:287: DeprecationWarning: `should_run_async` will not call `transform_cell` automatically in the future. Please pass the result to `transformed_cell` argument and any exception that happen during thetransform in `preprocessing_exc_tuple` in IPython 7.17 and above.\n",
      "  and should_run_async(code)\n"
     ]
    }
   ],
   "source": [
    "# save LDA model\n",
    "from gensim.test.utils import datapath\n",
    "\n",
    "temp_file = datapath(\"LDA_model\")\n",
    "lda.save(temp_file)"
   ]
  },
  {
   "cell_type": "markdown",
   "metadata": {},
   "source": [
    "### Step 4: Extract concept of body parts and occupation from the accident reports"
   ]
  },
  {
   "cell_type": "code",
   "execution_count": 27,
   "metadata": {},
   "outputs": [
    {
     "name": "stderr",
     "output_type": "stream",
     "text": [
      "C:\\Users\\desmo\\anaconda3\\lib\\site-packages\\ipykernel\\ipkernel.py:287: DeprecationWarning: `should_run_async` will not call `transform_cell` automatically in the future. Please pass the result to `transformed_cell` argument and any exception that happen during thetransform in `preprocessing_exc_tuple` in IPython 7.17 and above.\n",
      "  and should_run_async(code)\n"
     ]
    },
    {
     "data": {
      "text/plain": [
       "0     At approximately 11:30 a.m. on November 13  2013  Employee #1  with Edco Waste  & Recycling Services  was operating a forklift (Linde Lift Truck; Serial  Number: H2X393S04578; identified by the employer as FL-3) from approximately  4:00 a.m.  moving bales of recyclable paper products from a collection area in  the yard into trucks. Then  Employee #1 cleaned and was replacing an air  filter on the forklift FL-3. To clean out the air filter  Employee #1 parked  FL-3 in the doorway of the maintenance building. The air filter was located on  the rear of the forklift  behind the cab frame on the driver's side. Employee  #1 removed the air filter and cleaned it out  and then he climbed up onto the  back of the forklift to replace it. While up on the back of the forklift   Employee #1's foot dislodged the cooling system radiator cap. The fluid in the  lift truck's cooling system was hot and under pressure from being operated all  morning. The hot fluid sprayed up and out of the reservoir. Employee #1 was  burned on the upper legs and the groin area. Employee #1 jumped off of the  back of the forklift onto the ground. Coworkers came to his assistance and  called emergency services. Employee #1 was hospitalized at a burn center for  over 24 hours  for treatment of second degree burns to the upper legs and  groin area.                                                                     \n",
       "1     On August 30  2013  Employee #1 was working from a flatbed trailer. As he  worked  he fell from the flatbed trailer onto the ground  striking his  abdomen. The fall height of the flatbed trailer was 57 inches. Employee #1  sustained unspecified injuries in the fall that later on caused his death.                                                                                                                                                                                                                                                                                                                                                                                                                                                                                                                                                                                                                                                                                                                                                                                                                                                                                                                                                                                                                                                                                                                                              \n",
       "2     On August 27  2013  Employees #1 and #2  of Templar Inc.  a construction  company specializing in fiber optic installation and services  were working  along a highway. The highway speed limit was posted at 55 miles per hour.  Employee #1 was marking the location of an underground line that ran below the  turn lane. Employee #2 was next to Employee #1 and performing the duties of a  flagger. A privately owned vehicle was travelling in the travel/through lane.  The vehicle veered to the right  entered the turn lane  and struck both  workers. Emergency medical services were called. Employee #1 was declared dead  at the scene. Employee #2 refused emergency medical treatment for the bruises  he received when struck.                                                                                                                                                                                                                                                                                                                                                                                                                                                                                                                                                                                                                                                                                                       \n",
       "Name: text, dtype: object"
      ]
     },
     "execution_count": 27,
     "metadata": {},
     "output_type": "execute_result"
    }
   ],
   "source": [
    "# review some examples of accident reports to see if body parts or occupations are mentioned\n",
    "pd.set_option(\"display.max_colwidth\", -1)\n",
    "df['text'].head(3)"
   ]
  },
  {
   "cell_type": "code",
   "execution_count": 28,
   "metadata": {},
   "outputs": [
    {
     "name": "stderr",
     "output_type": "stream",
     "text": [
      "C:\\Users\\desmo\\anaconda3\\lib\\site-packages\\ipykernel\\ipkernel.py:287: DeprecationWarning: `should_run_async` will not call `transform_cell` automatically in the future. Please pass the result to `transformed_cell` argument and any exception that happen during thetransform in `preprocessing_exc_tuple` in IPython 7.17 and above.\n",
      "  and should_run_async(code)\n",
      "[nltk_data] Downloading package punkt to\n",
      "[nltk_data]     C:\\Users\\desmo\\AppData\\Roaming\\nltk_data...\n",
      "[nltk_data]   Package punkt is already up-to-date!\n",
      "[nltk_data] Downloading package averaged_perceptron_tagger to\n",
      "[nltk_data]     C:\\Users\\desmo\\AppData\\Roaming\\nltk_data...\n",
      "[nltk_data]   Package averaged_perceptron_tagger is already up-to-\n",
      "[nltk_data]       date!\n",
      "[nltk_data] Downloading package wordnet to\n",
      "[nltk_data]     C:\\Users\\desmo\\AppData\\Roaming\\nltk_data...\n",
      "[nltk_data]   Package wordnet is already up-to-date!\n"
     ]
    },
    {
     "data": {
      "text/plain": [
       "True"
      ]
     },
     "execution_count": 28,
     "metadata": {},
     "output_type": "execute_result"
    }
   ],
   "source": [
    "# import WordNet as a lexical resource\n",
    "import nltk\n",
    "from nltk.corpus import wordnet as wn\n",
    "from nltk import word_tokenize, pos_tag\n",
    "nltk.download('punkt')\n",
    "nltk.download('averaged_perceptron_tagger')\n",
    "#nltk.download('universal_tagset')\n",
    "nltk.download('wordnet')"
   ]
  },
  {
   "cell_type": "markdown",
   "metadata": {},
   "source": [
    "#### Dictionary of body parts"
   ]
  },
  {
   "cell_type": "code",
   "execution_count": 29,
   "metadata": {},
   "outputs": [
    {
     "name": "stdout",
     "output_type": "stream",
     "text": [
      "Synset('body_part.n.01')\n"
     ]
    },
    {
     "name": "stderr",
     "output_type": "stream",
     "text": [
      "C:\\Users\\desmo\\anaconda3\\lib\\site-packages\\ipykernel\\ipkernel.py:287: DeprecationWarning: `should_run_async` will not call `transform_cell` automatically in the future. Please pass the result to `transformed_cell` argument and any exception that happen during thetransform in `preprocessing_exc_tuple` in IPython 7.17 and above.\n",
      "  and should_run_async(code)\n"
     ]
    }
   ],
   "source": [
    "# use hyponymy of suitable parent word to define dictionary of body parts\n",
    "# using 'hand' as an example on http://wordnetweb.princeton.edu/, explore inherited hypernyms -- \"body part\" seems reasonable\n",
    "ss1 = wn.synsets('body_part')[0]\n",
    "print(ss1)"
   ]
  },
  {
   "cell_type": "code",
   "execution_count": 30,
   "metadata": {},
   "outputs": [
    {
     "name": "stderr",
     "output_type": "stream",
     "text": [
      "C:\\Users\\desmo\\anaconda3\\lib\\site-packages\\ipykernel\\ipkernel.py:287: DeprecationWarning: `should_run_async` will not call `transform_cell` automatically in the future. Please pass the result to `transformed_cell` argument and any exception that happen during thetransform in `preprocessing_exc_tuple` in IPython 7.17 and above.\n",
      "  and should_run_async(code)\n"
     ]
    },
    {
     "data": {
      "text/plain": [
       "[Synset('abdomen.n.01'),\n",
       " Synset('adnexa.n.01'),\n",
       " Synset('ambulacrum.n.01'),\n",
       " Synset('ampulla.n.01'),\n",
       " Synset('apparatus.n.02'),\n",
       " Synset('area.n.03'),\n",
       " Synset('back.n.01'),\n",
       " Synset('buttock.n.01'),\n",
       " Synset('buttocks.n.01'),\n",
       " Synset('cannon.n.05'),\n",
       " Synset('dilator.n.01'),\n",
       " Synset('dock.n.06'),\n",
       " Synset('dorsum.n.02'),\n",
       " Synset('energid.n.01'),\n",
       " Synset('external_body_part.n.01'),\n",
       " Synset('feature.n.02'),\n",
       " Synset('flank.n.04'),\n",
       " Synset('fornix.n.01'),\n",
       " Synset('gaskin.n.01'),\n",
       " Synset('groove.n.03'),\n",
       " Synset('haunch.n.01'),\n",
       " Synset('hindquarters.n.02'),\n",
       " Synset('hip.n.01'),\n",
       " Synset('horseback.n.01'),\n",
       " Synset('joint.n.01'),\n",
       " Synset('lobe.n.01'),\n",
       " Synset('loin.n.02'),\n",
       " Synset('loins.n.02'),\n",
       " Synset('mentum.n.03'),\n",
       " Synset('organ.n.01'),\n",
       " Synset('partition.n.03'),\n",
       " Synset('process.n.05'),\n",
       " Synset('rectum.n.01'),\n",
       " Synset('rudiment.n.02'),\n",
       " Synset('saddle.n.06'),\n",
       " Synset('shank.n.02'),\n",
       " Synset('shin.n.01'),\n",
       " Synset('shoulder.n.01'),\n",
       " Synset('small.n.01'),\n",
       " Synset('structure.n.04'),\n",
       " Synset('stump.n.02'),\n",
       " Synset('system.n.06'),\n",
       " Synset('thorax.n.01'),\n",
       " Synset('thorax.n.02'),\n",
       " Synset('thorax.n.03'),\n",
       " Synset('tissue.n.01'),\n",
       " Synset('toe.n.03'),\n",
       " Synset('torso.n.01'),\n",
       " Synset('underpart.n.01'),\n",
       " Synset('venter.n.04'),\n",
       " Synset('withers.n.01')]"
      ]
     },
     "execution_count": 30,
     "metadata": {},
     "output_type": "execute_result"
    }
   ],
   "source": [
    "# view all hyponyms of \"body part\"\n",
    "ss1.hyponyms()"
   ]
  },
  {
   "cell_type": "code",
   "execution_count": 31,
   "metadata": {},
   "outputs": [
    {
     "name": "stdout",
     "output_type": "stream",
     "text": [
      "Number of words:  3104\n"
     ]
    },
    {
     "name": "stderr",
     "output_type": "stream",
     "text": [
      "C:\\Users\\desmo\\anaconda3\\lib\\site-packages\\ipykernel\\ipkernel.py:287: DeprecationWarning: `should_run_async` will not call `transform_cell` automatically in the future. Please pass the result to `transformed_cell` argument and any exception that happen during thetransform in `preprocessing_exc_tuple` in IPython 7.17 and above.\n",
      "  and should_run_async(code)\n"
     ]
    },
    {
     "data": {
      "text/plain": [
       "['arachnoid membrane',\n",
       " 'articulator',\n",
       " 'brachial artery',\n",
       " 'brow',\n",
       " 'capsula glomeruli',\n",
       " 'cardinal vein',\n",
       " 'cingulum',\n",
       " 'corticospinal tract',\n",
       " 'endometrium',\n",
       " 'flexor',\n",
       " 'imperforate hymen',\n",
       " 'inner ear',\n",
       " 'musculus sphincter ani externus',\n",
       " 'neck',\n",
       " 'onyxis',\n",
       " 'pectoral fin',\n",
       " 'prosencephalon',\n",
       " 'purkinje fiber',\n",
       " 'sphincter',\n",
       " 'truncus celiacus']"
      ]
     },
     "execution_count": 31,
     "metadata": {},
     "output_type": "execute_result"
    }
   ],
   "source": [
    "# save all body part words as a list\n",
    "body = list(set(\n",
    "                [b.replace('_', ' ').lower() for s in ss1.closure(lambda s:s.hyponyms())\n",
    "                        for b in s.lemma_names()]))\n",
    "print(\"Number of words: \",len(body))\n",
    "sorted(body[:20])"
   ]
  },
  {
   "cell_type": "markdown",
   "metadata": {},
   "source": [
    "#### Dictionary of occupations"
   ]
  },
  {
   "cell_type": "code",
   "execution_count": 32,
   "metadata": {},
   "outputs": [
    {
     "name": "stdout",
     "output_type": "stream",
     "text": [
      "Synset('worker.n.01')\n"
     ]
    },
    {
     "name": "stderr",
     "output_type": "stream",
     "text": [
      "C:\\Users\\desmo\\anaconda3\\lib\\site-packages\\ipykernel\\ipkernel.py:287: DeprecationWarning: `should_run_async` will not call `transform_cell` automatically in the future. Please pass the result to `transformed_cell` argument and any exception that happen during thetransform in `preprocessing_exc_tuple` in IPython 7.17 and above.\n",
      "  and should_run_async(code)\n"
     ]
    }
   ],
   "source": [
    "# use hyponymy of suitable parent word to define dictionary of occupations\n",
    "# using 'driver' as an example on http://wordnetweb.princeton.edu/, explore inherited hypernyms -- \"worker\" seems reasonable\n",
    "ss2 = wn.synsets('worker')[0]\n",
    "print(ss2)"
   ]
  },
  {
   "cell_type": "code",
   "execution_count": 33,
   "metadata": {},
   "outputs": [
    {
     "name": "stderr",
     "output_type": "stream",
     "text": [
      "C:\\Users\\desmo\\anaconda3\\lib\\site-packages\\ipykernel\\ipkernel.py:287: DeprecationWarning: `should_run_async` will not call `transform_cell` automatically in the future. Please pass the result to `transformed_cell` argument and any exception that happen during thetransform in `preprocessing_exc_tuple` in IPython 7.17 and above.\n",
      "  and should_run_async(code)\n"
     ]
    },
    {
     "data": {
      "text/plain": [
       "[Synset('assistant.n.01'),\n",
       " Synset('beater.n.01'),\n",
       " Synset('bill_poster.n.01'),\n",
       " Synset('bleacher.n.01'),\n",
       " Synset('boatman.n.01'),\n",
       " Synset('carter.n.03'),\n",
       " Synset('caster.n.01'),\n",
       " Synset('charcoal_burner.n.01'),\n",
       " Synset('collector.n.02'),\n",
       " Synset('comber.n.01'),\n",
       " Synset('cornhusker.n.01'),\n",
       " Synset('driver.n.02'),\n",
       " Synset('employable.n.01'),\n",
       " Synset('employee.n.01'),\n",
       " Synset('finisher.n.04'),\n",
       " Synset('freelancer.n.01'),\n",
       " Synset('gutter.n.03'),\n",
       " Synset('hanger.n.01'),\n",
       " Synset('lamplighter.n.01'),\n",
       " Synset('melter.n.01'),\n",
       " Synset('moonlighter.n.01'),\n",
       " Synset('mopper.n.01'),\n",
       " Synset('muzzler.n.01'),\n",
       " Synset('nailer.n.01'),\n",
       " Synset('oiler.n.01'),\n",
       " Synset('part-timer.n.01'),\n",
       " Synset('peeler.n.02'),\n",
       " Synset('planter.n.02'),\n",
       " Synset('plier.n.01'),\n",
       " Synset('processor.n.02'),\n",
       " Synset('pruner.n.01'),\n",
       " Synset('puller.n.02'),\n",
       " Synset('quarryman.n.01'),\n",
       " Synset('ragsorter.n.01'),\n",
       " Synset('scab.n.01'),\n",
       " Synset('scrubber.n.01'),\n",
       " Synset('seasonal_worker.n.01'),\n",
       " Synset('servant.n.01'),\n",
       " Synset('sheller.n.01'),\n",
       " Synset('shelver.n.01'),\n",
       " Synset('shingler.n.01'),\n",
       " Synset('shoveler.n.01'),\n",
       " Synset('skidder.n.02'),\n",
       " Synset('skilled_worker.n.01'),\n",
       " Synset('slave.n.02'),\n",
       " Synset('solderer.n.01'),\n",
       " Synset('splicer.n.02'),\n",
       " Synset('splitter.n.01'),\n",
       " Synset('stainer.n.01'),\n",
       " Synset('stemmer.n.02'),\n",
       " Synset('stringer.n.02'),\n",
       " Synset('stripper.n.02'),\n",
       " Synset('tacker.n.01'),\n",
       " Synset('tapper.n.03'),\n",
       " Synset('teaser.n.01'),\n",
       " Synset('temp.n.01'),\n",
       " Synset('throwster.n.01'),\n",
       " Synset('tier.n.03'),\n",
       " Synset('tiler.n.01'),\n",
       " Synset('toiler.n.01'),\n",
       " Synset('topper.n.01'),\n",
       " Synset('topper.n.02'),\n",
       " Synset('trade_unionist.n.01'),\n",
       " Synset('twiner.n.01'),\n",
       " Synset('volunteer.n.02'),\n",
       " Synset('wallah.n.01'),\n",
       " Synset('washer.n.01'),\n",
       " Synset('winder.n.01'),\n",
       " Synset('wiper.n.01'),\n",
       " Synset('working_girl.n.01'),\n",
       " Synset('workmate.n.01')]"
      ]
     },
     "execution_count": 33,
     "metadata": {},
     "output_type": "execute_result"
    }
   ],
   "source": [
    "# view all hyponyms of \"worker\"\n",
    "ss2.hyponyms()"
   ]
  },
  {
   "cell_type": "code",
   "execution_count": 34,
   "metadata": {},
   "outputs": [
    {
     "name": "stderr",
     "output_type": "stream",
     "text": [
      "C:\\Users\\desmo\\anaconda3\\lib\\site-packages\\ipykernel\\ipkernel.py:287: DeprecationWarning: `should_run_async` will not call `transform_cell` automatically in the future. Please pass the result to `transformed_cell` argument and any exception that happen during thetransform in `preprocessing_exc_tuple` in IPython 7.17 and above.\n",
      "  and should_run_async(code)\n"
     ]
    },
    {
     "name": "stdout",
     "output_type": "stream",
     "text": [
      "Number of words:  1415\n"
     ]
    },
    {
     "data": {
      "text/plain": [
       "['barrel maker',\n",
       " 'black and tan',\n",
       " 'decoy',\n",
       " \"dressmaker's model\",\n",
       " 'funeral undertaker',\n",
       " 'gofer',\n",
       " 'hotel clerk',\n",
       " 'lieutenant commander',\n",
       " 'maid',\n",
       " 'mechanic',\n",
       " 'pensionary',\n",
       " 'rear admiral',\n",
       " 'roundsman',\n",
       " 'sandwichman',\n",
       " 'searcher',\n",
       " 'section hand',\n",
       " 'tanner',\n",
       " 'tier',\n",
       " 'unknown soldier',\n",
       " 'warehouser']"
      ]
     },
     "execution_count": 34,
     "metadata": {},
     "output_type": "execute_result"
    }
   ],
   "source": [
    "# save all worker words as a list\n",
    "worker = list(set(\n",
    "                [w.replace('_', ' ').lower() for s in ss2.closure(lambda s:s.hyponyms())\n",
    "                        for w in s.lemma_names()]))\n",
    "print(\"Number of words: \",len(worker))\n",
    "sorted(worker[:20])"
   ]
  },
  {
   "cell_type": "markdown",
   "metadata": {},
   "source": [
    "#### Extract all nouns from report text and get frequencies"
   ]
  },
  {
   "cell_type": "code",
   "execution_count": 35,
   "metadata": {
    "scrolled": true
   },
   "outputs": [
    {
     "name": "stderr",
     "output_type": "stream",
     "text": [
      "C:\\Users\\desmo\\anaconda3\\lib\\site-packages\\ipykernel\\ipkernel.py:287: DeprecationWarning: `should_run_async` will not call `transform_cell` automatically in the future. Please pass the result to `transformed_cell` argument and any exception that happen during thetransform in `preprocessing_exc_tuple` in IPython 7.17 and above.\n",
      "  and should_run_async(code)\n"
     ]
    },
    {
     "data": {
      "text/plain": [
       "0       [forklift, employer, bale, paper, product, col...\n",
       "1       [trailer, trailer, ground, abdomen, fall, heig...\n",
       "2       [construction, company, installation, service,...\n",
       "3       [forklift, rider, cube, coax, cable, copper, w...\n",
       "4       [vacuum, truck, driver, operator, water, power...\n",
       "                              ...                        \n",
       "9995    [rail, car, metal, shop, control, box, waist, ...\n",
       "9996    [p.m., steam, locomotive, resort, train, block...\n",
       "9997    [remote, rail, engine, metal, submarine, car, ...\n",
       "9998    [fireman, engineer, cab, steam, locomotive, ra...\n",
       "9999    [p.m., contract, worker, refinery, shift, way,...\n",
       "Name: text, Length: 10000, dtype: object"
      ]
     },
     "execution_count": 35,
     "metadata": {},
     "output_type": "execute_result"
    }
   ],
   "source": [
    "# extract all nouns from report text\n",
    "pd.set_option(\"display.max_colwidth\", 50)\n",
    "lemma = nltk.WordNetLemmatizer()\n",
    "\n",
    "def preproc4(tt):\n",
    "    wpos = pos_tag(word_tokenize(tt))\n",
    "    lemmas = []\n",
    "    for w, pos in wpos:\n",
    "        if pos in {'NN','NNS'}:\n",
    "            lemmas.append(lemma.lemmatize(w.lower(), pos = 'n'))\n",
    "    return lemmas\n",
    "\n",
    "text4 = df['text']\n",
    "text4_n = text4.apply(preproc4)\n",
    "text4 = [t for t in text4]\n",
    "text4_n"
   ]
  },
  {
   "cell_type": "code",
   "execution_count": 36,
   "metadata": {},
   "outputs": [
    {
     "name": "stderr",
     "output_type": "stream",
     "text": [
      "C:\\Users\\desmo\\anaconda3\\lib\\site-packages\\ipykernel\\ipkernel.py:287: DeprecationWarning: `should_run_async` will not call `transform_cell` automatically in the future. Please pass the result to `transformed_cell` argument and any exception that happen during thetransform in `preprocessing_exc_tuple` in IPython 7.17 and above.\n",
      "  and should_run_async(code)\n"
     ]
    },
    {
     "data": {
      "text/plain": [
       "[('employee', 3623),\n",
       " ('injury', 1986),\n",
       " ('p.m.', 1798),\n",
       " ('hospital', 1783),\n",
       " ('hand', 1672),\n",
       " ('a.m.', 1573),\n",
       " ('foot', 1563),\n",
       " ('day', 1543),\n",
       " ('area', 1504),\n",
       " ('coworker', 1457)]"
      ]
     },
     "execution_count": 36,
     "metadata": {},
     "output_type": "execute_result"
    }
   ],
   "source": [
    "# flatten unique list and obtain freq distributions\n",
    "text4_set = [list(set(f)) for f in text4_n]\n",
    "text4_flat = [w for t in text4_set for w in t]\n",
    "\n",
    "fd_n = FreqDist(text4_flat)\n",
    "fd_n.most_common(10)"
   ]
  },
  {
   "cell_type": "code",
   "execution_count": 37,
   "metadata": {},
   "outputs": [
    {
     "name": "stderr",
     "output_type": "stream",
     "text": [
      "C:\\Users\\desmo\\anaconda3\\lib\\site-packages\\ipykernel\\ipkernel.py:287: DeprecationWarning: `should_run_async` will not call `transform_cell` automatically in the future. Please pass the result to `transformed_cell` argument and any exception that happen during thetransform in `preprocessing_exc_tuple` in IPython 7.17 and above.\n",
      "  and should_run_async(code)\n"
     ]
    },
    {
     "data": {
      "text/plain": [
       "[('hand', 1672),\n",
       " ('foot', 1563),\n",
       " ('area', 1504),\n",
       " ('side', 1235),\n",
       " ('head', 1066),\n",
       " ('finger', 1016),\n",
       " ('arm', 804),\n",
       " ('leg', 748),\n",
       " ('system', 648),\n",
       " ('body', 600)]"
      ]
     },
     "execution_count": 37,
     "metadata": {},
     "output_type": "execute_result"
    }
   ],
   "source": [
    "# find all unique tokens matching body parts\n",
    "body_tokens = [(w, fd_n[w]) for w in fd_n.keys() if w in body]\n",
    "body_tokens = sorted(body_tokens, key=lambda x: x[1], reverse=True)\n",
    "body_tokens[:10]"
   ]
  },
  {
   "cell_type": "markdown",
   "metadata": {},
   "source": [
    "#### 3. Which part of the human body is injured most?\n",
    "The most common body parts involved in accidents are 'hand', 'foot', 'head' and 'finger'. Looks like typically the extremities are involved in such accidents. This information may be potentially useful for enhancing workplace safety measures such as better protective gear for hands and feet, and also the use of appropriate headgear for specific activities. "
   ]
  },
  {
   "cell_type": "code",
   "execution_count": 38,
   "metadata": {},
   "outputs": [
    {
     "name": "stderr",
     "output_type": "stream",
     "text": [
      "C:\\Users\\desmo\\anaconda3\\lib\\site-packages\\ipykernel\\ipkernel.py:287: DeprecationWarning: `should_run_async` will not call `transform_cell` automatically in the future. Please pass the result to `transformed_cell` argument and any exception that happen during thetransform in `preprocessing_exc_tuple` in IPython 7.17 and above.\n",
      "  and should_run_async(code)\n"
     ]
    },
    {
     "data": {
      "text/plain": [
       "[('employee', 3623),\n",
       " ('hand', 1672),\n",
       " ('driver', 423),\n",
       " ('laborer', 273),\n",
       " ('mechanic', 202),\n",
       " ('paramedic', 178),\n",
       " ('technician', 174),\n",
       " ('conductor', 174),\n",
       " ('help', 169),\n",
       " ('loader', 165)]"
      ]
     },
     "execution_count": 38,
     "metadata": {},
     "output_type": "execute_result"
    }
   ],
   "source": [
    "# find all unique tokens matching occupations\n",
    "worker_tokens = [(w, fd_n[w]) for w in fd_n.keys() if w in worker]\n",
    "worker_tokens = sorted(worker_tokens, key=lambda x: x[1], reverse=True)\n",
    "worker_tokens[:10]"
   ]
  },
  {
   "cell_type": "markdown",
   "metadata": {},
   "source": [
    "#### 4. What are the more risky occupations involved in such accidents?\n",
    "The more risky occupations involved in such accidents are 'driver', 'laborer', 'mechanic', 'paramedic', 'technician', and 'conductor'. As expected, most of the occupations are related to manual labour except for 'paramedics'. The term 'paramedic' may have been picked up as the reports may have mentioned the first responders attending to the victims, and these paramedics may not have been involved in the accident in the first place. It's also important to note that there were many reports stating just 'employee', which is a generic term. It may be helpful to further deep dive into the occupations of these employees to explore if there are other job roles which were not identified."
   ]
  }
 ],
 "metadata": {
  "kernelspec": {
   "display_name": "Python 3",
   "language": "python",
   "name": "python3"
  },
  "language_info": {
   "codemirror_mode": {
    "name": "ipython",
    "version": 3
   },
   "file_extension": ".py",
   "mimetype": "text/x-python",
   "name": "python",
   "nbconvert_exporter": "python",
   "pygments_lexer": "ipython3",
   "version": "3.8.8"
  }
 },
 "nbformat": 4,
 "nbformat_minor": 4
}
